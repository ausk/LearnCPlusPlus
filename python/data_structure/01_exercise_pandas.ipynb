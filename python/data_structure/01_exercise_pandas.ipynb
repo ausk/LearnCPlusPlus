{
 "cells": [
  {
   "cell_type": "markdown",
   "metadata": {},
   "source": [
    "## IPython Notebooks\n",
    "\n",
    "* You can run a cell by pressing ``[shift] + [Enter]`` or by pressing the \"play\" button in the menu.\n",
    "* You can get help on a function or object by pressing ``[shift] + [tab]`` after the opening parenthesis ``function(``\n",
    "* You can also get help by executing: ``function?``\n",
    "\n",
    "We'll use the following standard imports.  Execute this cell first:"
   ]
  },
  {
   "cell_type": "markdown",
   "metadata": {},
   "source": [
    "# Exercise: are first-borns more likely to be late?\n",
    "\n",
    "This exercise is based on [lecture material by Allen Downey](https://github.com/AllenDowney/CompStats.git).\n",
    "\n",
    "License: [Creative Commons Attribution 4.0 International](http://creativecommons.org/licenses/by/4.0/)"
   ]
  },
  {
   "cell_type": "code",
   "execution_count": null,
   "metadata": {
    "collapsed": false
   },
   "outputs": [],
   "source": [
    "# this future import makes this code mostly compatible with Python 2 and 3\n",
    "from __future__ import print_function, division\n",
    "\n",
    "import random\n",
    "\n",
    "import numpy as np\n",
    "import pandas as pd\n",
    "import seaborn as sns\n",
    "\n",
    "%matplotlib inline\n",
    "import matplotlib.pyplot as plt"
   ]
  },
  {
   "cell_type": "markdown",
   "metadata": {},
   "source": [
    "Are first babies more likely to be late?\n",
    "----------------------------------------\n",
    "\n",
    "Allen Downey wrote a popular blog post about this topic:\n",
    "\n",
    "http://allendowney.blogspot.com/2011/02/are-first-babies-more-likely-to-be-late.html\n",
    "\n",
    "We are going to investigate the question for ourselves, based on data from the National Survey of Family Growth (NSFG)."
   ]
  },
  {
   "cell_type": "markdown",
   "metadata": {},
   "source": [
    "Use the Pandas ``read_csv`` command to load ``data/2002FemPreg.csv.gz``."
   ]
  },
  {
   "cell_type": "code",
   "execution_count": null,
   "metadata": {
    "collapsed": false
   },
   "outputs": [],
   "source": [
    "preg = ..."
   ]
  },
  {
   "cell_type": "markdown",
   "metadata": {},
   "source": [
    "- The variable **`outcome`** encodes the outcome of the pregnancy.  Outcome 1 is a live birth.\n",
    "- The variable **`pregordr`** encodes for first pregnancies (==1) and others (>1).\n",
    "- The variables **`prglngth`** encodes for the length of pregnancy up to birth."
   ]
  },
  {
   "cell_type": "code",
   "execution_count": null,
   "metadata": {
    "collapsed": false
   },
   "outputs": [],
   "source": [
    "preg.outcome.value_counts().sort_index()"
   ]
  },
  {
   "cell_type": "code",
   "execution_count": null,
   "metadata": {
    "collapsed": false
   },
   "outputs": [],
   "source": [
    "preg.pregordr.value_counts().sort_index()"
   ]
  },
  {
   "cell_type": "markdown",
   "metadata": {},
   "source": [
    "Let's visualize the number of births over different weeks:"
   ]
  },
  {
   "cell_type": "code",
   "execution_count": null,
   "metadata": {
    "collapsed": false
   },
   "outputs": [],
   "source": [
    "preg.prglngth.value_counts().sort_index().plot(title='Number of births for week')"
   ]
  },
  {
   "cell_type": "markdown",
   "metadata": {},
   "source": [
    "And here is the total number of babies born up to a certain week:"
   ]
  },
  {
   "cell_type": "code",
   "execution_count": null,
   "metadata": {
    "collapsed": false
   },
   "outputs": [],
   "source": [
    "preg.prglngth.value_counts().sort_index().cumsum().plot(title='Total nr of births up to week')"
   ]
  },
  {
   "cell_type": "markdown",
   "metadata": {},
   "source": [
    "Now, create a Pandas dataframe containing *only* the three columns of interest.  **Hint:** ``loc``"
   ]
  },
  {
   "cell_type": "code",
   "execution_count": null,
   "metadata": {
    "collapsed": false
   },
   "outputs": [],
   "source": [
    "pp = ...\n",
    "pp.head()"
   ]
  },
  {
   "cell_type": "markdown",
   "metadata": {},
   "source": [
    "Now, select only entries where ``outcome`` is 1 (i.e., live births)."
   ]
  },
  {
   "cell_type": "code",
   "execution_count": null,
   "metadata": {
    "collapsed": false
   },
   "outputs": [],
   "source": [
    "pp = ..."
   ]
  },
  {
   "cell_type": "markdown",
   "metadata": {},
   "source": [
    "Also, we are only interested in whether babies are first born or not, so set any entries for ``pregordr`` that are  !=1 to the value 2.  *Hint:* Use ``.loc`` with two indices."
   ]
  },
  {
   "cell_type": "code",
   "execution_count": null,
   "metadata": {
    "collapsed": false
   },
   "outputs": [],
   "source": [
    "pp.loc[...] = 2\n",
    "pp.head()"
   ]
  },
  {
   "cell_type": "code",
   "execution_count": null,
   "metadata": {
    "collapsed": true
   },
   "outputs": [],
   "source": [
    "pp.groupby('pregordr').describe()"
   ]
  },
  {
   "cell_type": "markdown",
   "metadata": {},
   "source": [
    "Create two dataframes.  One with first pregnancies, and one with all the rest."
   ]
  },
  {
   "cell_type": "code",
   "execution_count": null,
   "metadata": {
    "collapsed": false
   },
   "outputs": [],
   "source": [
    "firsts = pp[...]\n",
    "others = pp[...]"
   ]
  },
  {
   "cell_type": "markdown",
   "metadata": {},
   "source": [
    "Computer the mean difference in weeks:"
   ]
  },
  {
   "cell_type": "code",
   "execution_count": null,
   "metadata": {
    "collapsed": false
   },
   "outputs": [],
   "source": [
    "firsts.prglngth.mean(), others.prglngth.mean()"
   ]
  },
  {
   "cell_type": "markdown",
   "metadata": {},
   "source": [
    "The difference is very small--a few hours!"
   ]
  },
  {
   "cell_type": "markdown",
   "metadata": {},
   "source": [
    "### Let's see if we can visualize the difference in the histograms.\n",
    "\n",
    "1. From the first pregnancy table, select column ``prglngth``, then call ``hist`` on it.\n",
    "2. You will get better results if you specify bins to ``hist``, with ``bins=range(50)``.\n",
    "3. Do the same for other births.\n",
    "4. To optimally compare the two histograms, set the x-axis to be the same with ``plt.xlim(30, 45)``"
   ]
  },
  {
   "cell_type": "code",
   "execution_count": null,
   "metadata": {
    "collapsed": false
   },
   "outputs": [],
   "source": [
    "# ...\n",
    "plt.xlim(30, 45)"
   ]
  },
  {
   "cell_type": "code",
   "execution_count": null,
   "metadata": {
    "collapsed": false
   },
   "outputs": [],
   "source": [
    "# ...\n",
    "plt.xlim(30, 45)"
   ]
  },
  {
   "cell_type": "markdown",
   "metadata": {},
   "source": [
    "I wrote a little utility function to help us plot the distributions side-by-side.  See if you can read the code below and figure out what it does:"
   ]
  },
  {
   "cell_type": "code",
   "execution_count": null,
   "metadata": {
    "collapsed": true
   },
   "outputs": [],
   "source": [
    "LILAC = '#998ec3'\n",
    "ORANGE = '#f1a340'\n",
    "\n",
    "\n",
    "def hist_two(series_A, series_B,\n",
    "             labels=['series_A', 'series_B'],\n",
    "             normalize=False, cumulative=False, bar_or_line='bar'):\n",
    "\n",
    "    fig, ax = plt.subplots(figsize=(10, 5))\n",
    "    \n",
    "    a_heights, a_bins = np.histogram(series_A, bins=range(45), normed=normalize)\n",
    "    b_heights, b_bins = np.histogram(series_B, bins=a_bins, normed=normalize)\n",
    "    \n",
    "    if cumulative:\n",
    "        a_heights = np.cumsum(a_heights)\n",
    "        b_heights = np.cumsum(b_heights)\n",
    "\n",
    "    width = (a_bins[1] - a_bins[0])/2.5\n",
    "\n",
    "    if bar_or_line == 'bar':\n",
    "        ax.bar(a_bins[:-1], a_heights, width=width, facecolor=LILAC, label=labels[0])\n",
    "        ax.bar(b_bins[:-1] + width, b_heights, width=width, facecolor=ORANGE, label=labels[1])\n",
    "    else:\n",
    "        plt.plot(a_bins[:-1], a_heights, linewidth=4, color=LILAC, label=labels[0])\n",
    "        plt.plot(b_bins[:-1], b_heights, linewidth=4, color=ORANGE, label=labels[1])\n",
    "\n",
    "    plt.legend(loc='upper left')"
   ]
  },
  {
   "cell_type": "code",
   "execution_count": null,
   "metadata": {
    "collapsed": false
   },
   "outputs": [],
   "source": [
    "hist_two(firsts.prglngth, others.prglngth, labels=['firsts', 'others'])\n",
    "plt.xlim(33, 44);"
   ]
  },
  {
   "cell_type": "markdown",
   "metadata": {},
   "source": [
    "Remember that the vertical axis is counts.  In this case, we are comparing counts with different totals, which might be misleading.\n",
    "\n",
    "An alternative is to compute a probability mass function (PMF), which divides the counts by the totals, yielding a map from each element to its probability.\n",
    "\n",
    "The probabilities are \"normalized\" to add up to 1.\n"
   ]
  },
  {
   "cell_type": "markdown",
   "metadata": {},
   "source": [
    "Now we can compare histograms fairly."
   ]
  },
  {
   "cell_type": "code",
   "execution_count": null,
   "metadata": {
    "collapsed": false
   },
   "outputs": [],
   "source": [
    "hist_two(firsts.prglngth, others.prglngth, labels=['firsts', 'others'], normalize=True)\n",
    "plt.xlim(33, 44);"
   ]
  },
  {
   "cell_type": "markdown",
   "metadata": {},
   "source": [
    "We see here that some of the difference at 39 weeks was an artifact of the different samples sizes."
   ]
  },
  {
   "cell_type": "markdown",
   "metadata": {},
   "source": [
    "Even so, it is not easy to compare histograms.  One more alternative is the cumulative histogram, which shows, for each $t$, the total probability up to and including $t$."
   ]
  },
  {
   "cell_type": "code",
   "execution_count": null,
   "metadata": {
    "collapsed": false
   },
   "outputs": [],
   "source": [
    "pp = live.loc[:, ['birthord','prglngth']]\n",
    "not_firsts = pp['birthord'] != 1\n",
    "pp.loc[not_firsts, 'birthord'] = 2"
   ]
  },
  {
   "cell_type": "code",
   "execution_count": null,
   "metadata": {
    "collapsed": false
   },
   "outputs": [],
   "source": [
    "hist_two(firsts.prglngth, others.prglngth, labels=['firsts', 'others'], normalize=True, cumulative=True, bar_or_line='line')\n",
    "plt.xlim(33, 44);"
   ]
  },
  {
   "cell_type": "markdown",
   "metadata": {},
   "source": [
    "The cumulative histograms are similar up to week 38.  After that, first babies are more likely to be born late. \n",
    "\n",
    "*Can you read this from the plot above?*"
   ]
  },
  {
   "cell_type": "markdown",
   "metadata": {},
   "source": [
    "One other thought: cumulative curves are often a good option for visualizing noisy series.  For example, the graphic below works pretty well despite some questionable aesthetic choices. "
   ]
  },
  {
   "cell_type": "markdown",
   "metadata": {},
   "source": [
    "<img src=\"figures/cumulative_snowfall.png\"/>"
   ]
  },
  {
   "cell_type": "code",
   "execution_count": null,
   "metadata": {
    "collapsed": true
   },
   "outputs": [],
   "source": []
  }
 ],
 "metadata": {
  "kernelspec": {
   "display_name": "Python 3",
   "language": "python",
   "name": "python3"
  },
  "language_info": {
   "codemirror_mode": {
    "name": "ipython",
    "version": 3
   },
   "file_extension": ".py",
   "mimetype": "text/x-python",
   "name": "python",
   "nbconvert_exporter": "python",
   "pygments_lexer": "ipython3",
   "version": "3.4.3"
  }
 },
 "nbformat": 4,
 "nbformat_minor": 0
}
