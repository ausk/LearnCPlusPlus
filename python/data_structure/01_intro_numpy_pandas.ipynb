{
 "cells": [
  {
   "cell_type": "markdown",
   "metadata": {},
   "source": [
    "## IPython Notebooks\n",
    "\n",
    "* You can run a cell by pressing ``[shift] + [Enter]`` or by pressing the \"play\" button in the menu.\n",
    "* You can get help on a function or object by pressing ``[shift] + [tab]`` after the opening parenthesis ``function(``\n",
    "* You can also get help by executing: ``function?``\n",
    "\n",
    "We'll use the following standard imports.  Execute this cell first:"
   ]
  },
  {
   "cell_type": "code",
   "execution_count": 3,
   "metadata": {
    "collapsed": true
   },
   "outputs": [],
   "source": [
    "%matplotlib inline\n",
    "import numpy as np\n",
    "import pandas as pd\n",
    "import seaborn as sns"
   ]
  },
  {
   "cell_type": "markdown",
   "metadata": {},
   "source": [
    "## Numpy refresher\n",
    "\n",
    "NumPy arrays form the underlying data-structure for most computational work in Python, and is used extensively by Pandas underneath the hood.  Here, we give only a very brief overview.  See http://scipy-lectures.github.io/ for a more detailed lesson."
   ]
  },
  {
   "cell_type": "code",
   "execution_count": 28,
   "metadata": {
    "collapsed": false
   },
   "outputs": [
    {
     "name": "stdout",
     "output_type": "stream",
     "text": [
      "[[ 0.85638745  0.20377704  0.85337137  0.93617308  0.68708019]\n",
      " [ 0.69351693  0.26113142  0.72097638  0.5146434   0.6605884 ]\n",
      " [ 0.57871646  0.29711588  0.93694272  0.36485267  0.03489225]]\n"
     ]
    }
   ],
   "source": [
    "import numpy as np\n",
    "\n",
    "# Generating a random array\n",
    "X = np.random.random((3, 5))  # a 3 x 5 array\n",
    "\n",
    "print(X)"
   ]
  },
  {
   "cell_type": "markdown",
   "metadata": {},
   "source": [
    "### Pure Python arrays are slow: let's square a matrix"
   ]
  },
  {
   "cell_type": "code",
   "execution_count": 42,
   "metadata": {
    "collapsed": true
   },
   "outputs": [],
   "source": [
    "import random\n",
    "\n",
    "vector_py = [random.random() for i in range(50000)]\n",
    "vector_np = np.random.random(50000)"
   ]
  },
  {
   "cell_type": "code",
   "execution_count": 43,
   "metadata": {
    "collapsed": false
   },
   "outputs": [
    {
     "name": "stdout",
     "output_type": "stream",
     "text": [
      "100 loops, best of 3: 8.04 ms per loop\n"
     ]
    }
   ],
   "source": [
    "%timeit [e**2 for e in vector_py]"
   ]
  },
  {
   "cell_type": "code",
   "execution_count": 44,
   "metadata": {
    "collapsed": false
   },
   "outputs": [
    {
     "name": "stdout",
     "output_type": "stream",
     "text": [
      "The slowest run took 6.52 times longer than the fastest. This could mean that an intermediate result is being cached \n",
      "10000 loops, best of 3: 35.1 µs per loop\n"
     ]
    }
   ],
   "source": [
    "%timeit vector_np**2"
   ]
  },
  {
   "cell_type": "code",
   "execution_count": 45,
   "metadata": {
    "collapsed": false
   },
   "outputs": [
    {
     "data": {
      "text/plain": [
       "229.05982905982907"
      ]
     },
     "execution_count": 45,
     "metadata": {},
     "output_type": "execute_result"
    }
   ],
   "source": [
    "8.04e-3 / 35.1e-6"
   ]
  },
  {
   "cell_type": "markdown",
   "metadata": {},
   "source": [
    "### Accessing elements"
   ]
  },
  {
   "cell_type": "code",
   "execution_count": 46,
   "metadata": {
    "collapsed": false
   },
   "outputs": [
    {
     "data": {
      "text/plain": [
       "0.85638745342108125"
      ]
     },
     "execution_count": 46,
     "metadata": {},
     "output_type": "execute_result"
    }
   ],
   "source": [
    "# get a single element\n",
    "X[0, 0]"
   ]
  },
  {
   "cell_type": "code",
   "execution_count": 47,
   "metadata": {
    "collapsed": false
   },
   "outputs": [
    {
     "data": {
      "text/plain": [
       "array([ 0.69351693,  0.26113142,  0.72097638,  0.5146434 ,  0.6605884 ])"
      ]
     },
     "execution_count": 47,
     "metadata": {},
     "output_type": "execute_result"
    }
   ],
   "source": [
    "# get a row\n",
    "X[1]"
   ]
  },
  {
   "cell_type": "code",
   "execution_count": 48,
   "metadata": {
    "collapsed": false
   },
   "outputs": [
    {
     "data": {
      "text/plain": [
       "array([ 0.20377704,  0.26113142,  0.29711588])"
      ]
     },
     "execution_count": 48,
     "metadata": {},
     "output_type": "execute_result"
    }
   ],
   "source": [
    "# get a column\n",
    "X[:, 1]"
   ]
  },
  {
   "cell_type": "code",
   "execution_count": 49,
   "metadata": {
    "collapsed": false
   },
   "outputs": [
    {
     "data": {
      "text/plain": [
       "array([[ 0.85638745,  0.69351693,  0.57871646],\n",
       "       [ 0.20377704,  0.26113142,  0.29711588],\n",
       "       [ 0.85337137,  0.72097638,  0.93694272],\n",
       "       [ 0.93617308,  0.5146434 ,  0.36485267],\n",
       "       [ 0.68708019,  0.6605884 ,  0.03489225]])"
      ]
     },
     "execution_count": 49,
     "metadata": {},
     "output_type": "execute_result"
    }
   ],
   "source": [
    "# Transposing an array\n",
    "X.T"
   ]
  },
  {
   "cell_type": "code",
   "execution_count": 50,
   "metadata": {
    "collapsed": false
   },
   "outputs": [
    {
     "data": {
      "text/plain": [
       "array([  0.,   3.,   6.,   9.,  12.])"
      ]
     },
     "execution_count": 50,
     "metadata": {},
     "output_type": "execute_result"
    }
   ],
   "source": [
    "# Turning a row vector into a column vector\n",
    "y = np.linspace(0, 12, 5)\n",
    "y"
   ]
  },
  {
   "cell_type": "code",
   "execution_count": 51,
   "metadata": {
    "collapsed": false
   },
   "outputs": [
    {
     "data": {
      "text/plain": [
       "array([[  0.],\n",
       "       [  3.],\n",
       "       [  6.],\n",
       "       [  9.],\n",
       "       [ 12.]])"
      ]
     },
     "execution_count": 51,
     "metadata": {},
     "output_type": "execute_result"
    }
   ],
   "source": [
    "# make into a column vector\n",
    "y[:, np.newaxis]"
   ]
  },
  {
   "cell_type": "code",
   "execution_count": 52,
   "metadata": {
    "collapsed": false
   },
   "outputs": [
    {
     "name": "stdout",
     "output_type": "stream",
     "text": [
      "(3, 5)\n",
      "[[ 0.85638745  0.20377704  0.85337137]\n",
      " [ 0.93617308  0.68708019  0.69351693]\n",
      " [ 0.26113142  0.72097638  0.5146434 ]\n",
      " [ 0.6605884   0.57871646  0.29711588]\n",
      " [ 0.93694272  0.36485267  0.03489225]]\n"
     ]
    }
   ],
   "source": [
    "print(X.shape)\n",
    "print(X.reshape(5, 3))"
   ]
  },
  {
   "cell_type": "code",
   "execution_count": 53,
   "metadata": {
    "collapsed": false
   },
   "outputs": [
    {
     "name": "stdout",
     "output_type": "stream",
     "text": [
      "[3 1 0]\n"
     ]
    },
    {
     "data": {
      "text/plain": [
       "array([[ 0.93617308,  0.20377704,  0.85638745],\n",
       "       [ 0.5146434 ,  0.26113142,  0.69351693],\n",
       "       [ 0.36485267,  0.29711588,  0.57871646]])"
      ]
     },
     "execution_count": 53,
     "metadata": {},
     "output_type": "execute_result"
    }
   ],
   "source": [
    "# indexing by an array of integers (fancy indexing)\n",
    "indices = np.array([3, 1, 0])\n",
    "print(indices)\n",
    "X[:, indices]"
   ]
  },
  {
   "cell_type": "markdown",
   "metadata": {},
   "source": [
    "### Operations along an axis"
   ]
  },
  {
   "cell_type": "code",
   "execution_count": 54,
   "metadata": {
    "collapsed": false
   },
   "outputs": [
    {
     "data": {
      "text/plain": [
       "array([[ 0.85638745,  0.20377704,  0.85337137,  0.93617308,  0.68708019],\n",
       "       [ 0.69351693,  0.26113142,  0.72097638,  0.5146434 ,  0.6605884 ],\n",
       "       [ 0.57871646,  0.29711588,  0.93694272,  0.36485267,  0.03489225]])"
      ]
     },
     "execution_count": 54,
     "metadata": {},
     "output_type": "execute_result"
    }
   ],
   "source": [
    "X"
   ]
  },
  {
   "cell_type": "code",
   "execution_count": 55,
   "metadata": {
    "collapsed": false
   },
   "outputs": [
    {
     "data": {
      "text/plain": [
       "(3, 5)"
      ]
     },
     "execution_count": 55,
     "metadata": {},
     "output_type": "execute_result"
    }
   ],
   "source": [
    "X.shape"
   ]
  },
  {
   "cell_type": "code",
   "execution_count": 56,
   "metadata": {
    "collapsed": false
   },
   "outputs": [
    {
     "data": {
      "text/plain": [
       "array([ 3.53678914,  2.85085652,  2.21251998])"
      ]
     },
     "execution_count": 56,
     "metadata": {},
     "output_type": "execute_result"
    }
   ],
   "source": [
    "np.sum(X, axis=1)"
   ]
  },
  {
   "cell_type": "code",
   "execution_count": 57,
   "metadata": {
    "collapsed": false
   },
   "outputs": [
    {
     "data": {
      "text/plain": [
       "array([ 0.85638745,  0.29711588,  0.93694272,  0.93617308,  0.68708019])"
      ]
     },
     "execution_count": 57,
     "metadata": {},
     "output_type": "execute_result"
    }
   ],
   "source": [
    "np.max(X, axis=0)"
   ]
  },
  {
   "cell_type": "markdown",
   "metadata": {},
   "source": [
    "# A quick-ish introduction to Pandas"
   ]
  },
  {
   "cell_type": "markdown",
   "metadata": {},
   "source": [
    "Credit: this is a notebook cribbed from [the official \"10 Minutes to Pandas\"](http://pandas.pydata.org/pandas-docs/stable/10min.html).\n",
    "\n",
    "<a href=\"http://pandas.pydata.org\" target=\"_blank\"> \n",
    "<img src=\"figures/pandas-book.jpg\" style=\"float: left; width: 25%; margin-right: 2em;\"></a>\n",
    "\n",
    "* emphasis on tabular data (csv and the like)\n",
    "* database/spreadsheet-like functionality\n",
    "* rich support for mixed data (numpy is for homogeneous arrays)\n",
    "* integrates cleanly with numpy and matplotlib\n",
    "\n",
    "There is also a wonderful [set of free tutorials](https://bitbucket.org/hrojas/learn-pandas) on Pandas."
   ]
  },
  {
   "cell_type": "markdown",
   "metadata": {},
   "source": [
    "### Unlike NumPy, pandas is a *columnar data store*."
   ]
  },
  {
   "cell_type": "code",
   "execution_count": 22,
   "metadata": {
    "collapsed": false
   },
   "outputs": [],
   "source": [
    "import pandas as pd\n",
    "import seaborn as sns\n",
    "\n",
    "# Let's also load the plotting/numerical tools\n",
    "%matplotlib inline\n",
    "import matplotlib.pyplot as plt\n",
    "import numpy as np\n",
    "\n",
    "# make figures a bit larger by default\n",
    "plt.rcParams['figure.figsize'] = (10,6)"
   ]
  },
  {
   "cell_type": "markdown",
   "metadata": {},
   "source": [
    "## A quick taste of Pandas"
   ]
  },
  {
   "cell_type": "markdown",
   "metadata": {},
   "source": [
    "Consider a standard stocks file you downloaded from [Yahoo Finance](http://finance.yahoo.com/q/hp?s=AAPL+Historical+Prices) (note that Pandas actually [ships with a utility to get that data for you](http://pandas.pydata.org/pandas-docs/stable/remote_data.html#remote-data-yahoo)):"
   ]
  },
  {
   "cell_type": "code",
   "execution_count": 27,
   "metadata": {
    "collapsed": false
   },
   "outputs": [
    {
     "name": "stdout",
     "output_type": "stream",
     "text": [
      "Date,Open,High,Low,Close,Volume,Adj Close\r\n",
      "2013-08-23,503.27,503.35,499.35,501.02,7877000,501.02\r\n",
      "2013-08-22,504.98,505.59,498.20,502.96,8721700,502.96\r\n",
      "2013-08-21,503.59,507.15,501.20,502.36,11995700,502.36\r\n",
      "2013-08-20,509.71,510.57,500.82,501.07,12810300,501.07\r\n",
      "2013-08-19,504.34,513.74,504.00,507.74,18232800,507.74\r\n",
      "2013-08-16,500.15,502.94,498.86,502.33,12939500,502.33\r\n",
      "2013-08-15,496.42,502.40,489.08,497.91,17510500,497.91\r\n",
      "2013-08-14,497.88,504.25,493.40,498.50,27013300,498.50\r\n",
      "2013-08-13,470.94,494.66,468.05,489.57,31497900,489.57\r\n"
     ]
    }
   ],
   "source": [
    "!head data/AAPL.csv"
   ]
  },
  {
   "cell_type": "code",
   "execution_count": 24,
   "metadata": {
    "collapsed": false
   },
   "outputs": [
    {
     "data": {
      "text/html": [
       "<div>\n",
       "<table border=\"1\" class=\"dataframe\">\n",
       "  <thead>\n",
       "    <tr style=\"text-align: right;\">\n",
       "      <th></th>\n",
       "      <th>Date</th>\n",
       "      <th>Open</th>\n",
       "      <th>High</th>\n",
       "      <th>Low</th>\n",
       "      <th>Close</th>\n",
       "      <th>Volume</th>\n",
       "      <th>Adj Close</th>\n",
       "    </tr>\n",
       "  </thead>\n",
       "  <tbody>\n",
       "    <tr>\n",
       "      <th>0</th>\n",
       "      <td>2013-08-23</td>\n",
       "      <td>503.27</td>\n",
       "      <td>503.35</td>\n",
       "      <td>499.35</td>\n",
       "      <td>501.02</td>\n",
       "      <td>7877000</td>\n",
       "      <td>501.02</td>\n",
       "    </tr>\n",
       "    <tr>\n",
       "      <th>1</th>\n",
       "      <td>2013-08-22</td>\n",
       "      <td>504.98</td>\n",
       "      <td>505.59</td>\n",
       "      <td>498.20</td>\n",
       "      <td>502.96</td>\n",
       "      <td>8721700</td>\n",
       "      <td>502.96</td>\n",
       "    </tr>\n",
       "    <tr>\n",
       "      <th>2</th>\n",
       "      <td>2013-08-21</td>\n",
       "      <td>503.59</td>\n",
       "      <td>507.15</td>\n",
       "      <td>501.20</td>\n",
       "      <td>502.36</td>\n",
       "      <td>11995700</td>\n",
       "      <td>502.36</td>\n",
       "    </tr>\n",
       "    <tr>\n",
       "      <th>3</th>\n",
       "      <td>2013-08-20</td>\n",
       "      <td>509.71</td>\n",
       "      <td>510.57</td>\n",
       "      <td>500.82</td>\n",
       "      <td>501.07</td>\n",
       "      <td>12810300</td>\n",
       "      <td>501.07</td>\n",
       "    </tr>\n",
       "    <tr>\n",
       "      <th>4</th>\n",
       "      <td>2013-08-19</td>\n",
       "      <td>504.34</td>\n",
       "      <td>513.74</td>\n",
       "      <td>504.00</td>\n",
       "      <td>507.74</td>\n",
       "      <td>18232800</td>\n",
       "      <td>507.74</td>\n",
       "    </tr>\n",
       "  </tbody>\n",
       "</table>\n",
       "</div>"
      ],
      "text/plain": [
       "         Date    Open    High     Low   Close    Volume  Adj Close\n",
       "0  2013-08-23  503.27  503.35  499.35  501.02   7877000     501.02\n",
       "1  2013-08-22  504.98  505.59  498.20  502.96   8721700     502.96\n",
       "2  2013-08-21  503.59  507.15  501.20  502.36  11995700     502.36\n",
       "3  2013-08-20  509.71  510.57  500.82  501.07  12810300     501.07\n",
       "4  2013-08-19  504.34  513.74  504.00  507.74  18232800     507.74"
      ]
     },
     "execution_count": 24,
     "metadata": {},
     "output_type": "execute_result"
    }
   ],
   "source": [
    "stock = pd.read_csv('data/AAPL.csv')\n",
    "stock.head()"
   ]
  },
  {
   "cell_type": "code",
   "execution_count": 25,
   "metadata": {
    "collapsed": false
   },
   "outputs": [
    {
     "data": {
      "text/html": [
       "<div>\n",
       "<table border=\"1\" class=\"dataframe\">\n",
       "  <thead>\n",
       "    <tr style=\"text-align: right;\">\n",
       "      <th></th>\n",
       "      <th>Open</th>\n",
       "      <th>High</th>\n",
       "      <th>Low</th>\n",
       "      <th>Close</th>\n",
       "      <th>Volume</th>\n",
       "      <th>Adj Close</th>\n",
       "    </tr>\n",
       "    <tr>\n",
       "      <th>Date</th>\n",
       "      <th></th>\n",
       "      <th></th>\n",
       "      <th></th>\n",
       "      <th></th>\n",
       "      <th></th>\n",
       "      <th></th>\n",
       "    </tr>\n",
       "  </thead>\n",
       "  <tbody>\n",
       "    <tr>\n",
       "      <th>2013-08-23</th>\n",
       "      <td>503.27</td>\n",
       "      <td>503.35</td>\n",
       "      <td>499.35</td>\n",
       "      <td>501.02</td>\n",
       "      <td>7877000</td>\n",
       "      <td>501.02</td>\n",
       "    </tr>\n",
       "    <tr>\n",
       "      <th>2013-08-22</th>\n",
       "      <td>504.98</td>\n",
       "      <td>505.59</td>\n",
       "      <td>498.20</td>\n",
       "      <td>502.96</td>\n",
       "      <td>8721700</td>\n",
       "      <td>502.96</td>\n",
       "    </tr>\n",
       "    <tr>\n",
       "      <th>2013-08-21</th>\n",
       "      <td>503.59</td>\n",
       "      <td>507.15</td>\n",
       "      <td>501.20</td>\n",
       "      <td>502.36</td>\n",
       "      <td>11995700</td>\n",
       "      <td>502.36</td>\n",
       "    </tr>\n",
       "    <tr>\n",
       "      <th>2013-08-20</th>\n",
       "      <td>509.71</td>\n",
       "      <td>510.57</td>\n",
       "      <td>500.82</td>\n",
       "      <td>501.07</td>\n",
       "      <td>12810300</td>\n",
       "      <td>501.07</td>\n",
       "    </tr>\n",
       "    <tr>\n",
       "      <th>2013-08-19</th>\n",
       "      <td>504.34</td>\n",
       "      <td>513.74</td>\n",
       "      <td>504.00</td>\n",
       "      <td>507.74</td>\n",
       "      <td>18232800</td>\n",
       "      <td>507.74</td>\n",
       "    </tr>\n",
       "  </tbody>\n",
       "</table>\n",
       "</div>"
      ],
      "text/plain": [
       "              Open    High     Low   Close    Volume  Adj Close\n",
       "Date                                                           \n",
       "2013-08-23  503.27  503.35  499.35  501.02   7877000     501.02\n",
       "2013-08-22  504.98  505.59  498.20  502.96   8721700     502.96\n",
       "2013-08-21  503.59  507.15  501.20  502.36  11995700     502.36\n",
       "2013-08-20  509.71  510.57  500.82  501.07  12810300     501.07\n",
       "2013-08-19  504.34  513.74  504.00  507.74  18232800     507.74"
      ]
     },
     "execution_count": 25,
     "metadata": {},
     "output_type": "execute_result"
    }
   ],
   "source": [
    "stock.index = stock.pop('Date')\n",
    "stock.head()"
   ]
  },
  {
   "cell_type": "code",
   "execution_count": 14,
   "metadata": {
    "collapsed": false
   },
   "outputs": [
    {
     "data": {
      "text/html": [
       "<div>\n",
       "<table border=\"1\" class=\"dataframe\">\n",
       "  <thead>\n",
       "    <tr style=\"text-align: right;\">\n",
       "      <th></th>\n",
       "      <th>Open</th>\n",
       "      <th>High</th>\n",
       "      <th>Low</th>\n",
       "      <th>Close</th>\n",
       "      <th>Volume</th>\n",
       "      <th>Adj Close</th>\n",
       "    </tr>\n",
       "    <tr>\n",
       "      <th>Date</th>\n",
       "      <th></th>\n",
       "      <th></th>\n",
       "      <th></th>\n",
       "      <th></th>\n",
       "      <th></th>\n",
       "      <th></th>\n",
       "    </tr>\n",
       "  </thead>\n",
       "  <tbody>\n",
       "    <tr>\n",
       "      <th>1996-01-02</th>\n",
       "      <td>32.25</td>\n",
       "      <td>32.25</td>\n",
       "      <td>31.75</td>\n",
       "      <td>32.13</td>\n",
       "      <td>4983200</td>\n",
       "      <td>7.81</td>\n",
       "    </tr>\n",
       "    <tr>\n",
       "      <th>1996-01-03</th>\n",
       "      <td>32.00</td>\n",
       "      <td>32.88</td>\n",
       "      <td>31.87</td>\n",
       "      <td>32.13</td>\n",
       "      <td>15368800</td>\n",
       "      <td>7.81</td>\n",
       "    </tr>\n",
       "    <tr>\n",
       "      <th>1996-01-04</th>\n",
       "      <td>32.38</td>\n",
       "      <td>32.38</td>\n",
       "      <td>31.37</td>\n",
       "      <td>31.56</td>\n",
       "      <td>10721200</td>\n",
       "      <td>7.67</td>\n",
       "    </tr>\n",
       "    <tr>\n",
       "      <th>1996-01-05</th>\n",
       "      <td>31.62</td>\n",
       "      <td>34.25</td>\n",
       "      <td>31.37</td>\n",
       "      <td>34.25</td>\n",
       "      <td>15929200</td>\n",
       "      <td>8.33</td>\n",
       "    </tr>\n",
       "    <tr>\n",
       "      <th>1996-01-08</th>\n",
       "      <td>34.50</td>\n",
       "      <td>35.50</td>\n",
       "      <td>34.00</td>\n",
       "      <td>34.63</td>\n",
       "      <td>4341200</td>\n",
       "      <td>8.42</td>\n",
       "    </tr>\n",
       "  </tbody>\n",
       "</table>\n",
       "</div>"
      ],
      "text/plain": [
       "             Open   High    Low  Close    Volume  Adj Close\n",
       "Date                                                       \n",
       "1996-01-02  32.25  32.25  31.75  32.13   4983200       7.81\n",
       "1996-01-03  32.00  32.88  31.87  32.13  15368800       7.81\n",
       "1996-01-04  32.38  32.38  31.37  31.56  10721200       7.67\n",
       "1996-01-05  31.62  34.25  31.37  34.25  15929200       8.33\n",
       "1996-01-08  34.50  35.50  34.00  34.63   4341200       8.42"
      ]
     },
     "execution_count": 14,
     "metadata": {},
     "output_type": "execute_result"
    }
   ],
   "source": [
    "stock.sort(inplace=True)\n",
    "stock.head()"
   ]
  },
  {
   "cell_type": "code",
   "execution_count": 15,
   "metadata": {
    "collapsed": false
   },
   "outputs": [
    {
     "data": {
      "image/png": "[encoded data removed]",
      "text/plain": [
       "<matplotlib.figure.Figure at 0x7f9da4c3a9e8>"
      ]
     },
     "metadata": {},
     "output_type": "display_data"
    }
   ],
   "source": [
    "stock['Adj Close'].plot();"
   ]
  },
  {
   "cell_type": "code",
   "execution_count": 94,
   "metadata": {
    "collapsed": false
   },
   "outputs": [
    {
     "data": {
      "text/html": [
       "<div>\n",
       "<table border=\"1\" class=\"dataframe\">\n",
       "  <thead>\n",
       "    <tr style=\"text-align: right;\">\n",
       "      <th></th>\n",
       "      <th>A</th>\n",
       "      <th>B</th>\n",
       "      <th>C</th>\n",
       "      <th>D</th>\n",
       "    </tr>\n",
       "  </thead>\n",
       "  <tbody>\n",
       "    <tr>\n",
       "      <th>2000-01-01</th>\n",
       "      <td>0.322330</td>\n",
       "      <td>0.768993</td>\n",
       "      <td>2.249961</td>\n",
       "      <td>-0.262111</td>\n",
       "    </tr>\n",
       "    <tr>\n",
       "      <th>2000-01-02</th>\n",
       "      <td>-0.102684</td>\n",
       "      <td>0.190375</td>\n",
       "      <td>-1.471382</td>\n",
       "      <td>0.597893</td>\n",
       "    </tr>\n",
       "    <tr>\n",
       "      <th>2000-01-03</th>\n",
       "      <td>1.989923</td>\n",
       "      <td>0.273032</td>\n",
       "      <td>-0.188176</td>\n",
       "      <td>-1.976469</td>\n",
       "    </tr>\n",
       "    <tr>\n",
       "      <th>2000-01-04</th>\n",
       "      <td>-0.901770</td>\n",
       "      <td>0.396484</td>\n",
       "      <td>-1.144343</td>\n",
       "      <td>0.539260</td>\n",
       "    </tr>\n",
       "    <tr>\n",
       "      <th>2000-01-05</th>\n",
       "      <td>0.406112</td>\n",
       "      <td>-0.182979</td>\n",
       "      <td>-1.087188</td>\n",
       "      <td>-0.557239</td>\n",
       "    </tr>\n",
       "  </tbody>\n",
       "</table>\n",
       "</div>"
      ],
      "text/plain": [
       "                   A         B         C         D\n",
       "2000-01-01  0.322330  0.768993  2.249961 -0.262111\n",
       "2000-01-02 -0.102684  0.190375 -1.471382  0.597893\n",
       "2000-01-03  1.989923  0.273032 -0.188176 -1.976469\n",
       "2000-01-04 -0.901770  0.396484 -1.144343  0.539260\n",
       "2000-01-05  0.406112 -0.182979 -1.087188 -0.557239"
      ]
     },
     "execution_count": 94,
     "metadata": {},
     "output_type": "execute_result"
    }
   ],
   "source": [
    "ts = pd.Series(np.random.randn(1000), index=pd.date_range('1/1/2000', periods=1000))  # just more than a year\n",
    "\n",
    "rdf = pd.DataFrame(np.random.randn(1000, 4), index=ts.index,\n",
    "                   columns=['A', 'B', 'C', 'D'])\n",
    "rdf.head()"
   ]
  },
  {
   "cell_type": "code",
   "execution_count": 97,
   "metadata": {
    "collapsed": false
   },
   "outputs": [
    {
     "data": {
      "image/png": "[encoded data removed]",
      "text/plain": [
       "<matplotlib.figure.Figure at 0x7f9da4130828>"
      ]
     },
     "metadata": {},
     "output_type": "display_data"
    }
   ],
   "source": [
    "rdf.cumsum().plot();"
   ]
  },
  {
   "cell_type": "markdown",
   "metadata": {},
   "source": [
    "## Object creation"
   ]
  },
  {
   "cell_type": "markdown",
   "metadata": {},
   "source": [
    "See the [Data Structure Intro](http://pandas.pydata.org/pandas-docs/stable/dsintro.html#dsintro) section for more details.\n",
    "\n",
    "Creating a Series by passing a list of values, letting pandas create a default integer index"
   ]
  },
  {
   "cell_type": "code",
   "execution_count": 16,
   "metadata": {
    "collapsed": false
   },
   "outputs": [
    {
     "data": {
      "text/plain": [
       "0     1\n",
       "1     3\n",
       "2     5\n",
       "3   NaN\n",
       "4     6\n",
       "5     8\n",
       "dtype: float64"
      ]
     },
     "execution_count": 16,
     "metadata": {},
     "output_type": "execute_result"
    }
   ],
   "source": [
    "s = pd.Series([1, 3, 5, np.nan, 6, 8])\n",
    "s"
   ]
  },
  {
   "cell_type": "markdown",
   "metadata": {},
   "source": [
    "### Creating a DataFrame by passing a numpy array, with a datetime index and labeled columns"
   ]
  },
  {
   "cell_type": "code",
   "execution_count": 20,
   "metadata": {
    "collapsed": false
   },
   "outputs": [
    {
     "data": {
      "text/plain": [
       "DatetimeIndex(['2013-01-01', '2013-01-02', '2013-01-03', '2013-01-04',\n",
       "               '2013-01-05', '2013-01-06'],\n",
       "              dtype='datetime64[ns]', freq='D', tz=None)"
      ]
     },
     "execution_count": 20,
     "metadata": {},
     "output_type": "execute_result"
    }
   ],
   "source": [
    "dates = pd.date_range('20130101', periods=6)\n",
    "dates"
   ]
  },
  {
   "cell_type": "code",
   "execution_count": 21,
   "metadata": {
    "collapsed": false
   },
   "outputs": [
    {
     "data": {
      "text/html": [
       "<div>\n",
       "<table border=\"1\" class=\"dataframe\">\n",
       "  <thead>\n",
       "    <tr style=\"text-align: right;\">\n",
       "      <th></th>\n",
       "      <th>rainfall</th>\n",
       "      <th>temp</th>\n",
       "      <th>humidity</th>\n",
       "      <th>windchill</th>\n",
       "    </tr>\n",
       "  </thead>\n",
       "  <tbody>\n",
       "    <tr>\n",
       "      <th>2013-01-01</th>\n",
       "      <td>0.307483</td>\n",
       "      <td>0.042601</td>\n",
       "      <td>0.271707</td>\n",
       "      <td>-1.620377</td>\n",
       "    </tr>\n",
       "    <tr>\n",
       "      <th>2013-01-02</th>\n",
       "      <td>0.423800</td>\n",
       "      <td>-0.665430</td>\n",
       "      <td>0.081791</td>\n",
       "      <td>-0.357333</td>\n",
       "    </tr>\n",
       "    <tr>\n",
       "      <th>2013-01-03</th>\n",
       "      <td>1.120483</td>\n",
       "      <td>1.670512</td>\n",
       "      <td>-1.091637</td>\n",
       "      <td>0.194661</td>\n",
       "    </tr>\n",
       "    <tr>\n",
       "      <th>2013-01-04</th>\n",
       "      <td>-2.416327</td>\n",
       "      <td>1.914948</td>\n",
       "      <td>-1.612585</td>\n",
       "      <td>0.113317</td>\n",
       "    </tr>\n",
       "    <tr>\n",
       "      <th>2013-01-05</th>\n",
       "      <td>-0.454762</td>\n",
       "      <td>0.368893</td>\n",
       "      <td>-0.314506</td>\n",
       "      <td>1.455401</td>\n",
       "    </tr>\n",
       "    <tr>\n",
       "      <th>2013-01-06</th>\n",
       "      <td>0.295708</td>\n",
       "      <td>0.223515</td>\n",
       "      <td>-0.156662</td>\n",
       "      <td>-0.897845</td>\n",
       "    </tr>\n",
       "  </tbody>\n",
       "</table>\n",
       "</div>"
      ],
      "text/plain": [
       "            rainfall      temp  humidity  windchill\n",
       "2013-01-01  0.307483  0.042601  0.271707  -1.620377\n",
       "2013-01-02  0.423800 -0.665430  0.081791  -0.357333\n",
       "2013-01-03  1.120483  1.670512 -1.091637   0.194661\n",
       "2013-01-04 -2.416327  1.914948 -1.612585   0.113317\n",
       "2013-01-05 -0.454762  0.368893 -0.314506   1.455401\n",
       "2013-01-06  0.295708  0.223515 -0.156662  -0.897845"
      ]
     },
     "execution_count": 21,
     "metadata": {},
     "output_type": "execute_result"
    }
   ],
   "source": [
    "rng = np.random.RandomState()\n",
    "\n",
    "df = pd.DataFrame(rng.normal(size=(6, 4)), index=dates, columns=('rainfall', 'temp', 'humidity', 'windchill'))\n",
    "df"
   ]
  },
  {
   "cell_type": "markdown",
   "metadata": {},
   "source": [
    "## Viewing Data"
   ]
  },
  {
   "cell_type": "code",
   "execution_count": 22,
   "metadata": {
    "collapsed": false
   },
   "outputs": [
    {
     "data": {
      "text/html": [
       "<div>\n",
       "<table border=\"1\" class=\"dataframe\">\n",
       "  <thead>\n",
       "    <tr style=\"text-align: right;\">\n",
       "      <th></th>\n",
       "      <th>rainfall</th>\n",
       "      <th>temp</th>\n",
       "      <th>humidity</th>\n",
       "      <th>windchill</th>\n",
       "    </tr>\n",
       "  </thead>\n",
       "  <tbody>\n",
       "    <tr>\n",
       "      <th>2013-01-01</th>\n",
       "      <td>0.307483</td>\n",
       "      <td>0.042601</td>\n",
       "      <td>0.271707</td>\n",
       "      <td>-1.620377</td>\n",
       "    </tr>\n",
       "    <tr>\n",
       "      <th>2013-01-02</th>\n",
       "      <td>0.423800</td>\n",
       "      <td>-0.665430</td>\n",
       "      <td>0.081791</td>\n",
       "      <td>-0.357333</td>\n",
       "    </tr>\n",
       "    <tr>\n",
       "      <th>2013-01-03</th>\n",
       "      <td>1.120483</td>\n",
       "      <td>1.670512</td>\n",
       "      <td>-1.091637</td>\n",
       "      <td>0.194661</td>\n",
       "    </tr>\n",
       "    <tr>\n",
       "      <th>2013-01-04</th>\n",
       "      <td>-2.416327</td>\n",
       "      <td>1.914948</td>\n",
       "      <td>-1.612585</td>\n",
       "      <td>0.113317</td>\n",
       "    </tr>\n",
       "    <tr>\n",
       "      <th>2013-01-05</th>\n",
       "      <td>-0.454762</td>\n",
       "      <td>0.368893</td>\n",
       "      <td>-0.314506</td>\n",
       "      <td>1.455401</td>\n",
       "    </tr>\n",
       "  </tbody>\n",
       "</table>\n",
       "</div>"
      ],
      "text/plain": [
       "            rainfall      temp  humidity  windchill\n",
       "2013-01-01  0.307483  0.042601  0.271707  -1.620377\n",
       "2013-01-02  0.423800 -0.665430  0.081791  -0.357333\n",
       "2013-01-03  1.120483  1.670512 -1.091637   0.194661\n",
       "2013-01-04 -2.416327  1.914948 -1.612585   0.113317\n",
       "2013-01-05 -0.454762  0.368893 -0.314506   1.455401"
      ]
     },
     "execution_count": 22,
     "metadata": {},
     "output_type": "execute_result"
    }
   ],
   "source": [
    "df.head()"
   ]
  },
  {
   "cell_type": "code",
   "execution_count": 23,
   "metadata": {
    "collapsed": false
   },
   "outputs": [
    {
     "data": {
      "text/html": [
       "<div>\n",
       "<table border=\"1\" class=\"dataframe\">\n",
       "  <thead>\n",
       "    <tr style=\"text-align: right;\">\n",
       "      <th></th>\n",
       "      <th>rainfall</th>\n",
       "      <th>temp</th>\n",
       "      <th>humidity</th>\n",
       "      <th>windchill</th>\n",
       "    </tr>\n",
       "  </thead>\n",
       "  <tbody>\n",
       "    <tr>\n",
       "      <th>2013-01-04</th>\n",
       "      <td>-2.416327</td>\n",
       "      <td>1.914948</td>\n",
       "      <td>-1.612585</td>\n",
       "      <td>0.113317</td>\n",
       "    </tr>\n",
       "    <tr>\n",
       "      <th>2013-01-05</th>\n",
       "      <td>-0.454762</td>\n",
       "      <td>0.368893</td>\n",
       "      <td>-0.314506</td>\n",
       "      <td>1.455401</td>\n",
       "    </tr>\n",
       "    <tr>\n",
       "      <th>2013-01-06</th>\n",
       "      <td>0.295708</td>\n",
       "      <td>0.223515</td>\n",
       "      <td>-0.156662</td>\n",
       "      <td>-0.897845</td>\n",
       "    </tr>\n",
       "  </tbody>\n",
       "</table>\n",
       "</div>"
      ],
      "text/plain": [
       "            rainfall      temp  humidity  windchill\n",
       "2013-01-04 -2.416327  1.914948 -1.612585   0.113317\n",
       "2013-01-05 -0.454762  0.368893 -0.314506   1.455401\n",
       "2013-01-06  0.295708  0.223515 -0.156662  -0.897845"
      ]
     },
     "execution_count": 23,
     "metadata": {},
     "output_type": "execute_result"
    }
   ],
   "source": [
    "df.tail(3)"
   ]
  },
  {
   "cell_type": "markdown",
   "metadata": {},
   "source": [
    "Display the index,columns, and the underlying numpy data"
   ]
  },
  {
   "cell_type": "code",
   "execution_count": 24,
   "metadata": {
    "collapsed": false
   },
   "outputs": [
    {
     "data": {
      "text/plain": [
       "DatetimeIndex(['2013-01-01', '2013-01-02', '2013-01-03', '2013-01-04',\n",
       "               '2013-01-05', '2013-01-06'],\n",
       "              dtype='datetime64[ns]', freq='D', tz=None)"
      ]
     },
     "execution_count": 24,
     "metadata": {},
     "output_type": "execute_result"
    }
   ],
   "source": [
    "df.index"
   ]
  },
  {
   "cell_type": "code",
   "execution_count": 25,
   "metadata": {
    "collapsed": false
   },
   "outputs": [
    {
     "data": {
      "text/plain": [
       "Index(['rainfall', 'temp', 'humidity', 'windchill'], dtype='object')"
      ]
     },
     "execution_count": 25,
     "metadata": {},
     "output_type": "execute_result"
    }
   ],
   "source": [
    "df.columns"
   ]
  },
  {
   "cell_type": "code",
   "execution_count": 26,
   "metadata": {
    "collapsed": false
   },
   "outputs": [
    {
     "data": {
      "text/plain": [
       "array([[ 0.30748348,  0.04260112,  0.27170732, -1.62037702],\n",
       "       [ 0.42379999, -0.66542967,  0.08179128, -0.35733301],\n",
       "       [ 1.12048335,  1.67051232, -1.0916368 ,  0.19466055],\n",
       "       [-2.41632692,  1.91494805, -1.61258502,  0.11331722],\n",
       "       [-0.45476237,  0.36889338, -0.31450615,  1.45540068],\n",
       "       [ 0.29570838,  0.22351487, -0.15666216, -0.8978446 ]])"
      ]
     },
     "execution_count": 26,
     "metadata": {},
     "output_type": "execute_result"
    }
   ],
   "source": [
    "df.values"
   ]
  },
  {
   "cell_type": "markdown",
   "metadata": {},
   "source": [
    "Describe shows a quick statistic summary of your data"
   ]
  },
  {
   "cell_type": "code",
   "execution_count": 27,
   "metadata": {
    "collapsed": false
   },
   "outputs": [
    {
     "data": {
      "text/html": [
       "<div>\n",
       "<table border=\"1\" class=\"dataframe\">\n",
       "  <thead>\n",
       "    <tr style=\"text-align: right;\">\n",
       "      <th></th>\n",
       "      <th>rainfall</th>\n",
       "      <th>temp</th>\n",
       "      <th>humidity</th>\n",
       "      <th>windchill</th>\n",
       "    </tr>\n",
       "  </thead>\n",
       "  <tbody>\n",
       "    <tr>\n",
       "      <th>count</th>\n",
       "      <td>6.000000</td>\n",
       "      <td>6.000000</td>\n",
       "      <td>6.000000</td>\n",
       "      <td>6.000000</td>\n",
       "    </tr>\n",
       "    <tr>\n",
       "      <th>mean</th>\n",
       "      <td>-0.120602</td>\n",
       "      <td>0.592507</td>\n",
       "      <td>-0.470315</td>\n",
       "      <td>-0.185363</td>\n",
       "    </tr>\n",
       "    <tr>\n",
       "      <th>std</th>\n",
       "      <td>1.230874</td>\n",
       "      <td>0.998189</td>\n",
       "      <td>0.730602</td>\n",
       "      <td>1.050924</td>\n",
       "    </tr>\n",
       "    <tr>\n",
       "      <th>min</th>\n",
       "      <td>-2.416327</td>\n",
       "      <td>-0.665430</td>\n",
       "      <td>-1.612585</td>\n",
       "      <td>-1.620377</td>\n",
       "    </tr>\n",
       "    <tr>\n",
       "      <th>25%</th>\n",
       "      <td>-0.267145</td>\n",
       "      <td>0.087830</td>\n",
       "      <td>-0.897354</td>\n",
       "      <td>-0.762717</td>\n",
       "    </tr>\n",
       "    <tr>\n",
       "      <th>50%</th>\n",
       "      <td>0.301596</td>\n",
       "      <td>0.296204</td>\n",
       "      <td>-0.235584</td>\n",
       "      <td>-0.122008</td>\n",
       "    </tr>\n",
       "    <tr>\n",
       "      <th>75%</th>\n",
       "      <td>0.394721</td>\n",
       "      <td>1.345108</td>\n",
       "      <td>0.022178</td>\n",
       "      <td>0.174325</td>\n",
       "    </tr>\n",
       "    <tr>\n",
       "      <th>max</th>\n",
       "      <td>1.120483</td>\n",
       "      <td>1.914948</td>\n",
       "      <td>0.271707</td>\n",
       "      <td>1.455401</td>\n",
       "    </tr>\n",
       "  </tbody>\n",
       "</table>\n",
       "</div>"
      ],
      "text/plain": [
       "       rainfall      temp  humidity  windchill\n",
       "count  6.000000  6.000000  6.000000   6.000000\n",
       "mean  -0.120602  0.592507 -0.470315  -0.185363\n",
       "std    1.230874  0.998189  0.730602   1.050924\n",
       "min   -2.416327 -0.665430 -1.612585  -1.620377\n",
       "25%   -0.267145  0.087830 -0.897354  -0.762717\n",
       "50%    0.301596  0.296204 -0.235584  -0.122008\n",
       "75%    0.394721  1.345108  0.022178   0.174325\n",
       "max    1.120483  1.914948  0.271707   1.455401"
      ]
     },
     "execution_count": 27,
     "metadata": {},
     "output_type": "execute_result"
    }
   ],
   "source": [
    "df.describe()"
   ]
  },
  {
   "cell_type": "markdown",
   "metadata": {},
   "source": [
    "Transposing your data"
   ]
  },
  {
   "cell_type": "code",
   "execution_count": 38,
   "metadata": {
    "collapsed": false
   },
   "outputs": [
    {
     "data": {
      "text/html": [
       "<div>\n",
       "<table border=\"1\" class=\"dataframe\">\n",
       "  <thead>\n",
       "    <tr style=\"text-align: right;\">\n",
       "      <th></th>\n",
       "      <th>2013-01-01 00:00:00</th>\n",
       "      <th>2013-01-02 00:00:00</th>\n",
       "      <th>2013-01-03 00:00:00</th>\n",
       "      <th>2013-01-04 00:00:00</th>\n",
       "      <th>2013-01-05 00:00:00</th>\n",
       "      <th>2013-01-06 00:00:00</th>\n",
       "    </tr>\n",
       "  </thead>\n",
       "  <tbody>\n",
       "    <tr>\n",
       "      <th>rainfall</th>\n",
       "      <td>0.307483</td>\n",
       "      <td>0.423800</td>\n",
       "      <td>1.120483</td>\n",
       "      <td>-2.416327</td>\n",
       "      <td>-0.454762</td>\n",
       "      <td>0.295708</td>\n",
       "    </tr>\n",
       "    <tr>\n",
       "      <th>temp</th>\n",
       "      <td>0.042601</td>\n",
       "      <td>-0.665430</td>\n",
       "      <td>1.670512</td>\n",
       "      <td>1.914948</td>\n",
       "      <td>0.368893</td>\n",
       "      <td>0.223515</td>\n",
       "    </tr>\n",
       "    <tr>\n",
       "      <th>humidity</th>\n",
       "      <td>0.271707</td>\n",
       "      <td>0.081791</td>\n",
       "      <td>-1.091637</td>\n",
       "      <td>-1.612585</td>\n",
       "      <td>-0.314506</td>\n",
       "      <td>-0.156662</td>\n",
       "    </tr>\n",
       "    <tr>\n",
       "      <th>windchill</th>\n",
       "      <td>-1.620377</td>\n",
       "      <td>-0.357333</td>\n",
       "      <td>0.194661</td>\n",
       "      <td>0.113317</td>\n",
       "      <td>1.455401</td>\n",
       "      <td>-0.897845</td>\n",
       "    </tr>\n",
       "  </tbody>\n",
       "</table>\n",
       "</div>"
      ],
      "text/plain": [
       "           2013-01-01  2013-01-02  2013-01-03  2013-01-04  2013-01-05  \\\n",
       "rainfall     0.307483    0.423800    1.120483   -2.416327   -0.454762   \n",
       "temp         0.042601   -0.665430    1.670512    1.914948    0.368893   \n",
       "humidity     0.271707    0.081791   -1.091637   -1.612585   -0.314506   \n",
       "windchill   -1.620377   -0.357333    0.194661    0.113317    1.455401   \n",
       "\n",
       "           2013-01-06  \n",
       "rainfall     0.295708  \n",
       "temp         0.223515  \n",
       "humidity    -0.156662  \n",
       "windchill   -0.897845  "
      ]
     },
     "execution_count": 38,
     "metadata": {},
     "output_type": "execute_result"
    }
   ],
   "source": [
    "df.T"
   ]
  },
  {
   "cell_type": "markdown",
   "metadata": {},
   "source": [
    "Sorting by an axis"
   ]
  },
  {
   "cell_type": "code",
   "execution_count": 39,
   "metadata": {
    "collapsed": false
   },
   "outputs": [
    {
     "data": {
      "text/html": [
       "<div>\n",
       "<table border=\"1\" class=\"dataframe\">\n",
       "  <thead>\n",
       "    <tr style=\"text-align: right;\">\n",
       "      <th></th>\n",
       "      <th>rainfall</th>\n",
       "      <th>temp</th>\n",
       "      <th>humidity</th>\n",
       "      <th>windchill</th>\n",
       "    </tr>\n",
       "  </thead>\n",
       "  <tbody>\n",
       "    <tr>\n",
       "      <th>2013-01-06</th>\n",
       "      <td>0.295708</td>\n",
       "      <td>0.223515</td>\n",
       "      <td>-0.156662</td>\n",
       "      <td>-0.897845</td>\n",
       "    </tr>\n",
       "    <tr>\n",
       "      <th>2013-01-05</th>\n",
       "      <td>-0.454762</td>\n",
       "      <td>0.368893</td>\n",
       "      <td>-0.314506</td>\n",
       "      <td>1.455401</td>\n",
       "    </tr>\n",
       "    <tr>\n",
       "      <th>2013-01-04</th>\n",
       "      <td>-2.416327</td>\n",
       "      <td>1.914948</td>\n",
       "      <td>-1.612585</td>\n",
       "      <td>0.113317</td>\n",
       "    </tr>\n",
       "    <tr>\n",
       "      <th>2013-01-03</th>\n",
       "      <td>1.120483</td>\n",
       "      <td>1.670512</td>\n",
       "      <td>-1.091637</td>\n",
       "      <td>0.194661</td>\n",
       "    </tr>\n",
       "    <tr>\n",
       "      <th>2013-01-02</th>\n",
       "      <td>0.423800</td>\n",
       "      <td>-0.665430</td>\n",
       "      <td>0.081791</td>\n",
       "      <td>-0.357333</td>\n",
       "    </tr>\n",
       "    <tr>\n",
       "      <th>2013-01-01</th>\n",
       "      <td>0.307483</td>\n",
       "      <td>0.042601</td>\n",
       "      <td>0.271707</td>\n",
       "      <td>-1.620377</td>\n",
       "    </tr>\n",
       "  </tbody>\n",
       "</table>\n",
       "</div>"
      ],
      "text/plain": [
       "            rainfall      temp  humidity  windchill\n",
       "2013-01-06  0.295708  0.223515 -0.156662  -0.897845\n",
       "2013-01-05 -0.454762  0.368893 -0.314506   1.455401\n",
       "2013-01-04 -2.416327  1.914948 -1.612585   0.113317\n",
       "2013-01-03  1.120483  1.670512 -1.091637   0.194661\n",
       "2013-01-02  0.423800 -0.665430  0.081791  -0.357333\n",
       "2013-01-01  0.307483  0.042601  0.271707  -1.620377"
      ]
     },
     "execution_count": 39,
     "metadata": {},
     "output_type": "execute_result"
    }
   ],
   "source": [
    "df.sort_index(ascending=False)"
   ]
  },
  {
   "cell_type": "markdown",
   "metadata": {},
   "source": [
    "Sorting by values"
   ]
  },
  {
   "cell_type": "code",
   "execution_count": 40,
   "metadata": {
    "collapsed": false
   },
   "outputs": [
    {
     "data": {
      "text/html": [
       "<div>\n",
       "<table border=\"1\" class=\"dataframe\">\n",
       "  <thead>\n",
       "    <tr style=\"text-align: right;\">\n",
       "      <th></th>\n",
       "      <th>rainfall</th>\n",
       "      <th>temp</th>\n",
       "      <th>humidity</th>\n",
       "      <th>windchill</th>\n",
       "    </tr>\n",
       "  </thead>\n",
       "  <tbody>\n",
       "    <tr>\n",
       "      <th>2013-01-02</th>\n",
       "      <td>0.423800</td>\n",
       "      <td>-0.665430</td>\n",
       "      <td>0.081791</td>\n",
       "      <td>-0.357333</td>\n",
       "    </tr>\n",
       "    <tr>\n",
       "      <th>2013-01-01</th>\n",
       "      <td>0.307483</td>\n",
       "      <td>0.042601</td>\n",
       "      <td>0.271707</td>\n",
       "      <td>-1.620377</td>\n",
       "    </tr>\n",
       "    <tr>\n",
       "      <th>2013-01-06</th>\n",
       "      <td>0.295708</td>\n",
       "      <td>0.223515</td>\n",
       "      <td>-0.156662</td>\n",
       "      <td>-0.897845</td>\n",
       "    </tr>\n",
       "    <tr>\n",
       "      <th>2013-01-05</th>\n",
       "      <td>-0.454762</td>\n",
       "      <td>0.368893</td>\n",
       "      <td>-0.314506</td>\n",
       "      <td>1.455401</td>\n",
       "    </tr>\n",
       "    <tr>\n",
       "      <th>2013-01-03</th>\n",
       "      <td>1.120483</td>\n",
       "      <td>1.670512</td>\n",
       "      <td>-1.091637</td>\n",
       "      <td>0.194661</td>\n",
       "    </tr>\n",
       "    <tr>\n",
       "      <th>2013-01-04</th>\n",
       "      <td>-2.416327</td>\n",
       "      <td>1.914948</td>\n",
       "      <td>-1.612585</td>\n",
       "      <td>0.113317</td>\n",
       "    </tr>\n",
       "  </tbody>\n",
       "</table>\n",
       "</div>"
      ],
      "text/plain": [
       "            rainfall      temp  humidity  windchill\n",
       "2013-01-02  0.423800 -0.665430  0.081791  -0.357333\n",
       "2013-01-01  0.307483  0.042601  0.271707  -1.620377\n",
       "2013-01-06  0.295708  0.223515 -0.156662  -0.897845\n",
       "2013-01-05 -0.454762  0.368893 -0.314506   1.455401\n",
       "2013-01-03  1.120483  1.670512 -1.091637   0.194661\n",
       "2013-01-04 -2.416327  1.914948 -1.612585   0.113317"
      ]
     },
     "execution_count": 40,
     "metadata": {},
     "output_type": "execute_result"
    }
   ],
   "source": [
    "df.sort(columns='temp')"
   ]
  },
  {
   "cell_type": "markdown",
   "metadata": {},
   "source": [
    "## Selection"
   ]
  },
  {
   "cell_type": "markdown",
   "metadata": {},
   "source": [
    "**Note** While many of the NumPy access methods work on DataFrames, use the pandas-specific data access methods, `.at`, `.iat`, `.loc`, `.iloc` and `.ix`.\n",
    "\n",
    "See the [Indexing section](http://pandas.pydata.org/pandas-docs/stable/indexing.html#indexing) and below."
   ]
  },
  {
   "cell_type": "markdown",
   "metadata": {},
   "source": [
    "### Getting"
   ]
  },
  {
   "cell_type": "markdown",
   "metadata": {},
   "source": [
    "Selecting a single column, which yields a `Series`, equivalent to `df.rainfall`"
   ]
  },
  {
   "cell_type": "code",
   "execution_count": 41,
   "metadata": {
    "collapsed": false
   },
   "outputs": [
    {
     "data": {
      "text/plain": [
       "2013-01-01    0.307483\n",
       "2013-01-02    0.423800\n",
       "2013-01-03    1.120483\n",
       "2013-01-04   -2.416327\n",
       "2013-01-05   -0.454762\n",
       "2013-01-06    0.295708\n",
       "Freq: D, Name: rainfall, dtype: float64"
      ]
     },
     "execution_count": 41,
     "metadata": {},
     "output_type": "execute_result"
    }
   ],
   "source": [
    "df['rainfall']"
   ]
  },
  {
   "cell_type": "markdown",
   "metadata": {},
   "source": [
    "Selecting via `[]`, which slices the rows."
   ]
  },
  {
   "cell_type": "code",
   "execution_count": 42,
   "metadata": {
    "collapsed": false
   },
   "outputs": [
    {
     "data": {
      "text/html": [
       "<div>\n",
       "<table border=\"1\" class=\"dataframe\">\n",
       "  <thead>\n",
       "    <tr style=\"text-align: right;\">\n",
       "      <th></th>\n",
       "      <th>rainfall</th>\n",
       "      <th>temp</th>\n",
       "      <th>humidity</th>\n",
       "      <th>windchill</th>\n",
       "    </tr>\n",
       "  </thead>\n",
       "  <tbody>\n",
       "    <tr>\n",
       "      <th>2013-01-01</th>\n",
       "      <td>0.307483</td>\n",
       "      <td>0.042601</td>\n",
       "      <td>0.271707</td>\n",
       "      <td>-1.620377</td>\n",
       "    </tr>\n",
       "    <tr>\n",
       "      <th>2013-01-02</th>\n",
       "      <td>0.423800</td>\n",
       "      <td>-0.665430</td>\n",
       "      <td>0.081791</td>\n",
       "      <td>-0.357333</td>\n",
       "    </tr>\n",
       "    <tr>\n",
       "      <th>2013-01-03</th>\n",
       "      <td>1.120483</td>\n",
       "      <td>1.670512</td>\n",
       "      <td>-1.091637</td>\n",
       "      <td>0.194661</td>\n",
       "    </tr>\n",
       "  </tbody>\n",
       "</table>\n",
       "</div>"
      ],
      "text/plain": [
       "            rainfall      temp  humidity  windchill\n",
       "2013-01-01  0.307483  0.042601  0.271707  -1.620377\n",
       "2013-01-02  0.423800 -0.665430  0.081791  -0.357333\n",
       "2013-01-03  1.120483  1.670512 -1.091637   0.194661"
      ]
     },
     "execution_count": 42,
     "metadata": {},
     "output_type": "execute_result"
    }
   ],
   "source": [
    "df[:3]"
   ]
  },
  {
   "cell_type": "markdown",
   "metadata": {},
   "source": [
    "### Selection by Label"
   ]
  },
  {
   "cell_type": "code",
   "execution_count": 43,
   "metadata": {
    "collapsed": false
   },
   "outputs": [
    {
     "data": {
      "text/html": [
       "<div>\n",
       "<table border=\"1\" class=\"dataframe\">\n",
       "  <thead>\n",
       "    <tr style=\"text-align: right;\">\n",
       "      <th></th>\n",
       "      <th>rainfall</th>\n",
       "      <th>temp</th>\n",
       "      <th>humidity</th>\n",
       "      <th>windchill</th>\n",
       "    </tr>\n",
       "  </thead>\n",
       "  <tbody>\n",
       "    <tr>\n",
       "      <th>2013-01-01</th>\n",
       "      <td>0.307483</td>\n",
       "      <td>0.042601</td>\n",
       "      <td>0.271707</td>\n",
       "      <td>-1.620377</td>\n",
       "    </tr>\n",
       "    <tr>\n",
       "      <th>2013-01-02</th>\n",
       "      <td>0.423800</td>\n",
       "      <td>-0.665430</td>\n",
       "      <td>0.081791</td>\n",
       "      <td>-0.357333</td>\n",
       "    </tr>\n",
       "    <tr>\n",
       "      <th>2013-01-03</th>\n",
       "      <td>1.120483</td>\n",
       "      <td>1.670512</td>\n",
       "      <td>-1.091637</td>\n",
       "      <td>0.194661</td>\n",
       "    </tr>\n",
       "  </tbody>\n",
       "</table>\n",
       "</div>"
      ],
      "text/plain": [
       "            rainfall      temp  humidity  windchill\n",
       "2013-01-01  0.307483  0.042601  0.271707  -1.620377\n",
       "2013-01-02  0.423800 -0.665430  0.081791  -0.357333\n",
       "2013-01-03  1.120483  1.670512 -1.091637   0.194661"
      ]
     },
     "execution_count": 43,
     "metadata": {},
     "output_type": "execute_result"
    }
   ],
   "source": [
    "df.loc['20130101':'20130103']"
   ]
  },
  {
   "cell_type": "markdown",
   "metadata": {},
   "source": [
    "See more in [Selection by Label](http://pandas.pydata.org/pandas-docs/stable/indexing.html#indexing-label).\n",
    "\n",
    "For getting a cross section using a label"
   ]
  },
  {
   "cell_type": "code",
   "execution_count": 44,
   "metadata": {
    "collapsed": false
   },
   "outputs": [
    {
     "data": {
      "text/plain": [
       "rainfall     0.307483\n",
       "temp         0.042601\n",
       "humidity     0.271707\n",
       "windchill   -1.620377\n",
       "Name: 2013-01-01 00:00:00, dtype: float64"
      ]
     },
     "execution_count": 44,
     "metadata": {},
     "output_type": "execute_result"
    }
   ],
   "source": [
    "df.loc[dates[0]]"
   ]
  },
  {
   "cell_type": "markdown",
   "metadata": {},
   "source": [
    "Selecting on a multi-axis by label"
   ]
  },
  {
   "cell_type": "code",
   "execution_count": 47,
   "metadata": {
    "collapsed": false
   },
   "outputs": [
    {
     "data": {
      "text/html": [
       "<div>\n",
       "<table border=\"1\" class=\"dataframe\">\n",
       "  <thead>\n",
       "    <tr style=\"text-align: right;\">\n",
       "      <th></th>\n",
       "      <th>rainfall</th>\n",
       "      <th>temp</th>\n",
       "    </tr>\n",
       "  </thead>\n",
       "  <tbody>\n",
       "    <tr>\n",
       "      <th>2013-01-01</th>\n",
       "      <td>0.307483</td>\n",
       "      <td>0.042601</td>\n",
       "    </tr>\n",
       "    <tr>\n",
       "      <th>2013-01-02</th>\n",
       "      <td>0.423800</td>\n",
       "      <td>-0.665430</td>\n",
       "    </tr>\n",
       "    <tr>\n",
       "      <th>2013-01-03</th>\n",
       "      <td>1.120483</td>\n",
       "      <td>1.670512</td>\n",
       "    </tr>\n",
       "    <tr>\n",
       "      <th>2013-01-04</th>\n",
       "      <td>-2.416327</td>\n",
       "      <td>1.914948</td>\n",
       "    </tr>\n",
       "    <tr>\n",
       "      <th>2013-01-05</th>\n",
       "      <td>-0.454762</td>\n",
       "      <td>0.368893</td>\n",
       "    </tr>\n",
       "    <tr>\n",
       "      <th>2013-01-06</th>\n",
       "      <td>0.295708</td>\n",
       "      <td>0.223515</td>\n",
       "    </tr>\n",
       "  </tbody>\n",
       "</table>\n",
       "</div>"
      ],
      "text/plain": [
       "            rainfall      temp\n",
       "2013-01-01  0.307483  0.042601\n",
       "2013-01-02  0.423800 -0.665430\n",
       "2013-01-03  1.120483  1.670512\n",
       "2013-01-04 -2.416327  1.914948\n",
       "2013-01-05 -0.454762  0.368893\n",
       "2013-01-06  0.295708  0.223515"
      ]
     },
     "execution_count": 47,
     "metadata": {},
     "output_type": "execute_result"
    }
   ],
   "source": [
    "df.loc[:, ['rainfall', 'temp']]"
   ]
  },
  {
   "cell_type": "markdown",
   "metadata": {},
   "source": [
    "### Selection by Position"
   ]
  },
  {
   "cell_type": "markdown",
   "metadata": {},
   "source": [
    "Select via the position of the passed integers—esentially equivalent to NumPy indexing."
   ]
  },
  {
   "cell_type": "code",
   "execution_count": 48,
   "metadata": {
    "collapsed": false
   },
   "outputs": [
    {
     "data": {
      "text/plain": [
       "rainfall    -2.416327\n",
       "temp         1.914948\n",
       "humidity    -1.612585\n",
       "windchill    0.113317\n",
       "Name: 2013-01-04 00:00:00, dtype: float64"
      ]
     },
     "execution_count": 48,
     "metadata": {},
     "output_type": "execute_result"
    }
   ],
   "source": [
    "df.iloc[3]"
   ]
  },
  {
   "cell_type": "markdown",
   "metadata": {},
   "source": [
    "By integer slices, acting similar to numpy/python"
   ]
  },
  {
   "cell_type": "code",
   "execution_count": 49,
   "metadata": {
    "collapsed": false
   },
   "outputs": [
    {
     "data": {
      "text/html": [
       "<div>\n",
       "<table border=\"1\" class=\"dataframe\">\n",
       "  <thead>\n",
       "    <tr style=\"text-align: right;\">\n",
       "      <th></th>\n",
       "      <th>rainfall</th>\n",
       "      <th>temp</th>\n",
       "    </tr>\n",
       "  </thead>\n",
       "  <tbody>\n",
       "    <tr>\n",
       "      <th>2013-01-04</th>\n",
       "      <td>-2.416327</td>\n",
       "      <td>1.914948</td>\n",
       "    </tr>\n",
       "    <tr>\n",
       "      <th>2013-01-05</th>\n",
       "      <td>-0.454762</td>\n",
       "      <td>0.368893</td>\n",
       "    </tr>\n",
       "  </tbody>\n",
       "</table>\n",
       "</div>"
      ],
      "text/plain": [
       "            rainfall      temp\n",
       "2013-01-04 -2.416327  1.914948\n",
       "2013-01-05 -0.454762  0.368893"
      ]
     },
     "execution_count": 49,
     "metadata": {},
     "output_type": "execute_result"
    }
   ],
   "source": [
    "df.iloc[3:5, 0:2]"
   ]
  },
  {
   "cell_type": "markdown",
   "metadata": {},
   "source": [
    "By lists of integer position locations, similar to the numpy/python style"
   ]
  },
  {
   "cell_type": "code",
   "execution_count": 50,
   "metadata": {
    "collapsed": false
   },
   "outputs": [
    {
     "data": {
      "text/html": [
       "<div>\n",
       "<table border=\"1\" class=\"dataframe\">\n",
       "  <thead>\n",
       "    <tr style=\"text-align: right;\">\n",
       "      <th></th>\n",
       "      <th>rainfall</th>\n",
       "      <th>humidity</th>\n",
       "    </tr>\n",
       "  </thead>\n",
       "  <tbody>\n",
       "    <tr>\n",
       "      <th>2013-01-02</th>\n",
       "      <td>0.423800</td>\n",
       "      <td>0.081791</td>\n",
       "    </tr>\n",
       "    <tr>\n",
       "      <th>2013-01-03</th>\n",
       "      <td>1.120483</td>\n",
       "      <td>-1.091637</td>\n",
       "    </tr>\n",
       "    <tr>\n",
       "      <th>2013-01-05</th>\n",
       "      <td>-0.454762</td>\n",
       "      <td>-0.314506</td>\n",
       "    </tr>\n",
       "  </tbody>\n",
       "</table>\n",
       "</div>"
      ],
      "text/plain": [
       "            rainfall  humidity\n",
       "2013-01-02  0.423800  0.081791\n",
       "2013-01-03  1.120483 -1.091637\n",
       "2013-01-05 -0.454762 -0.314506"
      ]
     },
     "execution_count": 50,
     "metadata": {},
     "output_type": "execute_result"
    }
   ],
   "source": [
    "df.iloc[[1,2,4], [0,2]]"
   ]
  },
  {
   "cell_type": "markdown",
   "metadata": {},
   "source": [
    "For slicing rows or columns explicitly"
   ]
  },
  {
   "cell_type": "code",
   "execution_count": 51,
   "metadata": {
    "collapsed": false
   },
   "outputs": [
    {
     "data": {
      "text/html": [
       "<div>\n",
       "<table border=\"1\" class=\"dataframe\">\n",
       "  <thead>\n",
       "    <tr style=\"text-align: right;\">\n",
       "      <th></th>\n",
       "      <th>rainfall</th>\n",
       "      <th>temp</th>\n",
       "      <th>humidity</th>\n",
       "      <th>windchill</th>\n",
       "    </tr>\n",
       "  </thead>\n",
       "  <tbody>\n",
       "    <tr>\n",
       "      <th>2013-01-02</th>\n",
       "      <td>0.423800</td>\n",
       "      <td>-0.665430</td>\n",
       "      <td>0.081791</td>\n",
       "      <td>-0.357333</td>\n",
       "    </tr>\n",
       "    <tr>\n",
       "      <th>2013-01-03</th>\n",
       "      <td>1.120483</td>\n",
       "      <td>1.670512</td>\n",
       "      <td>-1.091637</td>\n",
       "      <td>0.194661</td>\n",
       "    </tr>\n",
       "  </tbody>\n",
       "</table>\n",
       "</div>"
      ],
      "text/plain": [
       "            rainfall      temp  humidity  windchill\n",
       "2013-01-02  0.423800 -0.665430  0.081791  -0.357333\n",
       "2013-01-03  1.120483  1.670512 -1.091637   0.194661"
      ]
     },
     "execution_count": 51,
     "metadata": {},
     "output_type": "execute_result"
    }
   ],
   "source": [
    "df.iloc[1:3, :]"
   ]
  },
  {
   "cell_type": "markdown",
   "metadata": {},
   "source": [
    "### Boolean Indexing"
   ]
  },
  {
   "cell_type": "code",
   "execution_count": 52,
   "metadata": {
    "collapsed": false
   },
   "outputs": [
    {
     "data": {
      "text/html": [
       "<div>\n",
       "<table border=\"1\" class=\"dataframe\">\n",
       "  <thead>\n",
       "    <tr style=\"text-align: right;\">\n",
       "      <th></th>\n",
       "      <th>rainfall</th>\n",
       "      <th>temp</th>\n",
       "      <th>humidity</th>\n",
       "      <th>windchill</th>\n",
       "    </tr>\n",
       "  </thead>\n",
       "  <tbody>\n",
       "    <tr>\n",
       "      <th>2013-01-01</th>\n",
       "      <td>0.307483</td>\n",
       "      <td>0.042601</td>\n",
       "      <td>0.271707</td>\n",
       "      <td>-1.620377</td>\n",
       "    </tr>\n",
       "    <tr>\n",
       "      <th>2013-01-02</th>\n",
       "      <td>0.423800</td>\n",
       "      <td>-0.665430</td>\n",
       "      <td>0.081791</td>\n",
       "      <td>-0.357333</td>\n",
       "    </tr>\n",
       "    <tr>\n",
       "      <th>2013-01-03</th>\n",
       "      <td>1.120483</td>\n",
       "      <td>1.670512</td>\n",
       "      <td>-1.091637</td>\n",
       "      <td>0.194661</td>\n",
       "    </tr>\n",
       "    <tr>\n",
       "      <th>2013-01-04</th>\n",
       "      <td>-2.416327</td>\n",
       "      <td>1.914948</td>\n",
       "      <td>-1.612585</td>\n",
       "      <td>0.113317</td>\n",
       "    </tr>\n",
       "    <tr>\n",
       "      <th>2013-01-05</th>\n",
       "      <td>-0.454762</td>\n",
       "      <td>0.368893</td>\n",
       "      <td>-0.314506</td>\n",
       "      <td>1.455401</td>\n",
       "    </tr>\n",
       "    <tr>\n",
       "      <th>2013-01-06</th>\n",
       "      <td>0.295708</td>\n",
       "      <td>0.223515</td>\n",
       "      <td>-0.156662</td>\n",
       "      <td>-0.897845</td>\n",
       "    </tr>\n",
       "  </tbody>\n",
       "</table>\n",
       "</div>"
      ],
      "text/plain": [
       "            rainfall      temp  humidity  windchill\n",
       "2013-01-01  0.307483  0.042601  0.271707  -1.620377\n",
       "2013-01-02  0.423800 -0.665430  0.081791  -0.357333\n",
       "2013-01-03  1.120483  1.670512 -1.091637   0.194661\n",
       "2013-01-04 -2.416327  1.914948 -1.612585   0.113317\n",
       "2013-01-05 -0.454762  0.368893 -0.314506   1.455401\n",
       "2013-01-06  0.295708  0.223515 -0.156662  -0.897845"
      ]
     },
     "execution_count": 52,
     "metadata": {},
     "output_type": "execute_result"
    }
   ],
   "source": [
    "df"
   ]
  },
  {
   "cell_type": "code",
   "execution_count": 53,
   "metadata": {
    "collapsed": false
   },
   "outputs": [
    {
     "data": {
      "text/html": [
       "<div>\n",
       "<table border=\"1\" class=\"dataframe\">\n",
       "  <thead>\n",
       "    <tr style=\"text-align: right;\">\n",
       "      <th></th>\n",
       "      <th>rainfall</th>\n",
       "      <th>temp</th>\n",
       "      <th>humidity</th>\n",
       "      <th>windchill</th>\n",
       "    </tr>\n",
       "  </thead>\n",
       "  <tbody>\n",
       "    <tr>\n",
       "      <th>2013-01-01</th>\n",
       "      <td>0.307483</td>\n",
       "      <td>0.042601</td>\n",
       "      <td>0.271707</td>\n",
       "      <td>-1.620377</td>\n",
       "    </tr>\n",
       "    <tr>\n",
       "      <th>2013-01-02</th>\n",
       "      <td>0.423800</td>\n",
       "      <td>-0.665430</td>\n",
       "      <td>0.081791</td>\n",
       "      <td>-0.357333</td>\n",
       "    </tr>\n",
       "    <tr>\n",
       "      <th>2013-01-03</th>\n",
       "      <td>1.120483</td>\n",
       "      <td>1.670512</td>\n",
       "      <td>-1.091637</td>\n",
       "      <td>0.194661</td>\n",
       "    </tr>\n",
       "    <tr>\n",
       "      <th>2013-01-06</th>\n",
       "      <td>0.295708</td>\n",
       "      <td>0.223515</td>\n",
       "      <td>-0.156662</td>\n",
       "      <td>-0.897845</td>\n",
       "    </tr>\n",
       "  </tbody>\n",
       "</table>\n",
       "</div>"
      ],
      "text/plain": [
       "            rainfall      temp  humidity  windchill\n",
       "2013-01-01  0.307483  0.042601  0.271707  -1.620377\n",
       "2013-01-02  0.423800 -0.665430  0.081791  -0.357333\n",
       "2013-01-03  1.120483  1.670512 -1.091637   0.194661\n",
       "2013-01-06  0.295708  0.223515 -0.156662  -0.897845"
      ]
     },
     "execution_count": 53,
     "metadata": {},
     "output_type": "execute_result"
    }
   ],
   "source": [
    "df[df.rainfall > 0]"
   ]
  },
  {
   "cell_type": "markdown",
   "metadata": {},
   "source": [
    "What happens if I select on the whole table?"
   ]
  },
  {
   "cell_type": "code",
   "execution_count": 54,
   "metadata": {
    "collapsed": false
   },
   "outputs": [
    {
     "data": {
      "text/html": [
       "<div>\n",
       "<table border=\"1\" class=\"dataframe\">\n",
       "  <thead>\n",
       "    <tr style=\"text-align: right;\">\n",
       "      <th></th>\n",
       "      <th>rainfall</th>\n",
       "      <th>temp</th>\n",
       "      <th>humidity</th>\n",
       "      <th>windchill</th>\n",
       "    </tr>\n",
       "  </thead>\n",
       "  <tbody>\n",
       "    <tr>\n",
       "      <th>2013-01-01</th>\n",
       "      <td>0.307483</td>\n",
       "      <td>0.042601</td>\n",
       "      <td>0.271707</td>\n",
       "      <td>NaN</td>\n",
       "    </tr>\n",
       "    <tr>\n",
       "      <th>2013-01-02</th>\n",
       "      <td>0.423800</td>\n",
       "      <td>NaN</td>\n",
       "      <td>0.081791</td>\n",
       "      <td>NaN</td>\n",
       "    </tr>\n",
       "    <tr>\n",
       "      <th>2013-01-03</th>\n",
       "      <td>1.120483</td>\n",
       "      <td>1.670512</td>\n",
       "      <td>NaN</td>\n",
       "      <td>0.194661</td>\n",
       "    </tr>\n",
       "    <tr>\n",
       "      <th>2013-01-04</th>\n",
       "      <td>NaN</td>\n",
       "      <td>1.914948</td>\n",
       "      <td>NaN</td>\n",
       "      <td>0.113317</td>\n",
       "    </tr>\n",
       "    <tr>\n",
       "      <th>2013-01-05</th>\n",
       "      <td>NaN</td>\n",
       "      <td>0.368893</td>\n",
       "      <td>NaN</td>\n",
       "      <td>1.455401</td>\n",
       "    </tr>\n",
       "    <tr>\n",
       "      <th>2013-01-06</th>\n",
       "      <td>0.295708</td>\n",
       "      <td>0.223515</td>\n",
       "      <td>NaN</td>\n",
       "      <td>NaN</td>\n",
       "    </tr>\n",
       "  </tbody>\n",
       "</table>\n",
       "</div>"
      ],
      "text/plain": [
       "            rainfall      temp  humidity  windchill\n",
       "2013-01-01  0.307483  0.042601  0.271707        NaN\n",
       "2013-01-02  0.423800       NaN  0.081791        NaN\n",
       "2013-01-03  1.120483  1.670512       NaN   0.194661\n",
       "2013-01-04       NaN  1.914948       NaN   0.113317\n",
       "2013-01-05       NaN  0.368893       NaN   1.455401\n",
       "2013-01-06  0.295708  0.223515       NaN        NaN"
      ]
     },
     "execution_count": 54,
     "metadata": {},
     "output_type": "execute_result"
    }
   ],
   "source": [
    "df[df > 0]"
   ]
  },
  {
   "cell_type": "markdown",
   "metadata": {},
   "source": [
    "## Basic operations"
   ]
  },
  {
   "cell_type": "markdown",
   "metadata": {},
   "source": [
    "Simple statistics"
   ]
  },
  {
   "cell_type": "code",
   "execution_count": 55,
   "metadata": {
    "collapsed": false
   },
   "outputs": [
    {
     "data": {
      "text/plain": [
       "rainfall    -0.120602\n",
       "temp         0.592507\n",
       "humidity    -0.470315\n",
       "windchill   -0.185363\n",
       "dtype: float64"
      ]
     },
     "execution_count": 55,
     "metadata": {},
     "output_type": "execute_result"
    }
   ],
   "source": [
    "df.mean()"
   ]
  },
  {
   "cell_type": "markdown",
   "metadata": {},
   "source": [
    "And the same along a different axis:"
   ]
  },
  {
   "cell_type": "code",
   "execution_count": 56,
   "metadata": {
    "collapsed": false
   },
   "outputs": [
    {
     "data": {
      "text/plain": [
       "2013-01-01   -0.249646\n",
       "2013-01-02   -0.129293\n",
       "2013-01-03    0.473505\n",
       "2013-01-04   -0.500162\n",
       "2013-01-05    0.263756\n",
       "2013-01-06   -0.133821\n",
       "Freq: D, dtype: float64"
      ]
     },
     "execution_count": 56,
     "metadata": {},
     "output_type": "execute_result"
    }
   ],
   "source": [
    "df.mean(axis=1)"
   ]
  },
  {
   "cell_type": "markdown",
   "metadata": {},
   "source": [
    "Applying a function to the data"
   ]
  },
  {
   "cell_type": "code",
   "execution_count": 58,
   "metadata": {
    "collapsed": false
   },
   "outputs": [
    {
     "name": "stdout",
     "output_type": "stream",
     "text": [
      "            rainfall      temp  humidity  windchill\n",
      "2013-01-01  0.307483  0.042601  0.271707  -1.620377\n",
      "2013-01-02  0.423800 -0.665430  0.081791  -0.357333\n",
      "2013-01-03  1.120483  1.670512 -1.091637   0.194661\n",
      "2013-01-04 -2.416327  1.914948 -1.612585   0.113317\n",
      "2013-01-05 -0.454762  0.368893 -0.314506   1.455401\n",
      "2013-01-06  0.295708  0.223515 -0.156662  -0.897845\n"
     ]
    },
    {
     "data": {
      "text/html": [
       "<div>\n",
       "<table border=\"1\" class=\"dataframe\">\n",
       "  <thead>\n",
       "    <tr style=\"text-align: right;\">\n",
       "      <th></th>\n",
       "      <th>rainfall</th>\n",
       "      <th>temp</th>\n",
       "      <th>humidity</th>\n",
       "      <th>windchill</th>\n",
       "    </tr>\n",
       "  </thead>\n",
       "  <tbody>\n",
       "    <tr>\n",
       "      <th>2013-01-01</th>\n",
       "      <td>0.307483</td>\n",
       "      <td>0.042601</td>\n",
       "      <td>0.271707</td>\n",
       "      <td>-1.620377</td>\n",
       "    </tr>\n",
       "    <tr>\n",
       "      <th>2013-01-02</th>\n",
       "      <td>0.731283</td>\n",
       "      <td>-0.622829</td>\n",
       "      <td>0.353499</td>\n",
       "      <td>-1.977710</td>\n",
       "    </tr>\n",
       "    <tr>\n",
       "      <th>2013-01-03</th>\n",
       "      <td>1.851767</td>\n",
       "      <td>1.047684</td>\n",
       "      <td>-0.738138</td>\n",
       "      <td>-1.783049</td>\n",
       "    </tr>\n",
       "    <tr>\n",
       "      <th>2013-01-04</th>\n",
       "      <td>-0.564560</td>\n",
       "      <td>2.962632</td>\n",
       "      <td>-2.350723</td>\n",
       "      <td>-1.669732</td>\n",
       "    </tr>\n",
       "    <tr>\n",
       "      <th>2013-01-05</th>\n",
       "      <td>-1.019322</td>\n",
       "      <td>3.331525</td>\n",
       "      <td>-2.665229</td>\n",
       "      <td>-0.214332</td>\n",
       "    </tr>\n",
       "    <tr>\n",
       "      <th>2013-01-06</th>\n",
       "      <td>-0.723614</td>\n",
       "      <td>3.555040</td>\n",
       "      <td>-2.821892</td>\n",
       "      <td>-1.112176</td>\n",
       "    </tr>\n",
       "  </tbody>\n",
       "</table>\n",
       "</div>"
      ],
      "text/plain": [
       "            rainfall      temp  humidity  windchill\n",
       "2013-01-01  0.307483  0.042601  0.271707  -1.620377\n",
       "2013-01-02  0.731283 -0.622829  0.353499  -1.977710\n",
       "2013-01-03  1.851767  1.047684 -0.738138  -1.783049\n",
       "2013-01-04 -0.564560  2.962632 -2.350723  -1.669732\n",
       "2013-01-05 -1.019322  3.331525 -2.665229  -0.214332\n",
       "2013-01-06 -0.723614  3.555040 -2.821892  -1.112176"
      ]
     },
     "execution_count": 58,
     "metadata": {},
     "output_type": "execute_result"
    }
   ],
   "source": [
    "print(df)\n",
    "df.apply(np.cumsum)"
   ]
  },
  {
   "cell_type": "code",
   "execution_count": 59,
   "metadata": {
    "collapsed": false
   },
   "outputs": [
    {
     "data": {
      "text/plain": [
       "rainfall     3.536810\n",
       "temp         2.580378\n",
       "humidity     1.884292\n",
       "windchill    3.075778\n",
       "dtype: float64"
      ]
     },
     "execution_count": 59,
     "metadata": {},
     "output_type": "execute_result"
    }
   ],
   "source": [
    "df.apply(lambda column: column.max() - column.min())"
   ]
  },
  {
   "cell_type": "markdown",
   "metadata": {},
   "source": [
    "## SQL-style joins (merging data)"
   ]
  },
  {
   "cell_type": "code",
   "execution_count": 64,
   "metadata": {
    "collapsed": false
   },
   "outputs": [],
   "source": [
    "left = pd.DataFrame({'subject': ['history', 'literature'], 'papers': [10, 20]})\n",
    "right = pd.DataFrame({'subject': ['history', 'literature', 'science'], 'books': [4, 5, 9]})"
   ]
  },
  {
   "cell_type": "code",
   "execution_count": 65,
   "metadata": {
    "collapsed": false
   },
   "outputs": [
    {
     "data": {
      "text/html": [
       "<div>\n",
       "<table border=\"1\" class=\"dataframe\">\n",
       "  <thead>\n",
       "    <tr style=\"text-align: right;\">\n",
       "      <th></th>\n",
       "      <th>papers</th>\n",
       "      <th>subject</th>\n",
       "    </tr>\n",
       "  </thead>\n",
       "  <tbody>\n",
       "    <tr>\n",
       "      <th>0</th>\n",
       "      <td>10</td>\n",
       "      <td>history</td>\n",
       "    </tr>\n",
       "    <tr>\n",
       "      <th>1</th>\n",
       "      <td>20</td>\n",
       "      <td>literature</td>\n",
       "    </tr>\n",
       "  </tbody>\n",
       "</table>\n",
       "</div>"
      ],
      "text/plain": [
       "   papers     subject\n",
       "0      10     history\n",
       "1      20  literature"
      ]
     },
     "execution_count": 65,
     "metadata": {},
     "output_type": "execute_result"
    }
   ],
   "source": [
    "left"
   ]
  },
  {
   "cell_type": "code",
   "execution_count": 62,
   "metadata": {
    "collapsed": false
   },
   "outputs": [
    {
     "data": {
      "text/html": [
       "<div>\n",
       "<table border=\"1\" class=\"dataframe\">\n",
       "  <thead>\n",
       "    <tr style=\"text-align: right;\">\n",
       "      <th></th>\n",
       "      <th>books</th>\n",
       "      <th>subject</th>\n",
       "    </tr>\n",
       "  </thead>\n",
       "  <tbody>\n",
       "    <tr>\n",
       "      <th>0</th>\n",
       "      <td>4</td>\n",
       "      <td>history</td>\n",
       "    </tr>\n",
       "    <tr>\n",
       "      <th>1</th>\n",
       "      <td>5</td>\n",
       "      <td>literature</td>\n",
       "    </tr>\n",
       "    <tr>\n",
       "      <th>2</th>\n",
       "      <td>9</td>\n",
       "      <td>science</td>\n",
       "    </tr>\n",
       "  </tbody>\n",
       "</table>\n",
       "</div>"
      ],
      "text/plain": [
       "   books     subject\n",
       "0      4     history\n",
       "1      5  literature\n",
       "2      9     science"
      ]
     },
     "execution_count": 62,
     "metadata": {},
     "output_type": "execute_result"
    }
   ],
   "source": [
    "right"
   ]
  },
  {
   "cell_type": "code",
   "execution_count": 67,
   "metadata": {
    "collapsed": false
   },
   "outputs": [
    {
     "data": {
      "text/html": [
       "<div>\n",
       "<table border=\"1\" class=\"dataframe\">\n",
       "  <thead>\n",
       "    <tr style=\"text-align: right;\">\n",
       "      <th></th>\n",
       "      <th>papers</th>\n",
       "      <th>subject</th>\n",
       "      <th>books</th>\n",
       "    </tr>\n",
       "  </thead>\n",
       "  <tbody>\n",
       "    <tr>\n",
       "      <th>0</th>\n",
       "      <td>10</td>\n",
       "      <td>history</td>\n",
       "      <td>4</td>\n",
       "    </tr>\n",
       "    <tr>\n",
       "      <th>1</th>\n",
       "      <td>20</td>\n",
       "      <td>literature</td>\n",
       "      <td>5</td>\n",
       "    </tr>\n",
       "    <tr>\n",
       "      <th>2</th>\n",
       "      <td>NaN</td>\n",
       "      <td>science</td>\n",
       "      <td>9</td>\n",
       "    </tr>\n",
       "  </tbody>\n",
       "</table>\n",
       "</div>"
      ],
      "text/plain": [
       "   papers     subject  books\n",
       "0      10     history      4\n",
       "1      20  literature      5\n",
       "2     NaN     science      9"
      ]
     },
     "execution_count": 67,
     "metadata": {},
     "output_type": "execute_result"
    }
   ],
   "source": [
    "pd.merge(left, right, on='subject', how='outer')"
   ]
  },
  {
   "cell_type": "markdown",
   "metadata": {},
   "source": [
    "Above, `how` can be:\n",
    "\n",
    "  * left: use only keys from left frame (SQL: left outer join)\n",
    "  * right: use only keys from right frame (SQL: right outer join)\n",
    "  * outer: use union of keys from both frames (SQL: full outer join)\n",
    "  * inner: use intersection of keys from both frames (SQL: inner join)"
   ]
  },
  {
   "cell_type": "markdown",
   "metadata": {},
   "source": [
    "## Append rows to a dataframe"
   ]
  },
  {
   "cell_type": "code",
   "execution_count": 69,
   "metadata": {
    "collapsed": false,
    "scrolled": true
   },
   "outputs": [
    {
     "data": {
      "text/html": [
       "<div>\n",
       "<table border=\"1\" class=\"dataframe\">\n",
       "  <thead>\n",
       "    <tr style=\"text-align: right;\">\n",
       "      <th></th>\n",
       "      <th>rainfall</th>\n",
       "      <th>temp</th>\n",
       "      <th>humidity</th>\n",
       "      <th>windchill</th>\n",
       "    </tr>\n",
       "  </thead>\n",
       "  <tbody>\n",
       "    <tr>\n",
       "      <th>2013-01-01</th>\n",
       "      <td>0.307483</td>\n",
       "      <td>0.042601</td>\n",
       "      <td>0.271707</td>\n",
       "      <td>-1.620377</td>\n",
       "    </tr>\n",
       "    <tr>\n",
       "      <th>2013-01-02</th>\n",
       "      <td>0.423800</td>\n",
       "      <td>-0.665430</td>\n",
       "      <td>0.081791</td>\n",
       "      <td>-0.357333</td>\n",
       "    </tr>\n",
       "    <tr>\n",
       "      <th>2013-01-03</th>\n",
       "      <td>1.120483</td>\n",
       "      <td>1.670512</td>\n",
       "      <td>-1.091637</td>\n",
       "      <td>0.194661</td>\n",
       "    </tr>\n",
       "    <tr>\n",
       "      <th>2013-01-04</th>\n",
       "      <td>-2.416327</td>\n",
       "      <td>1.914948</td>\n",
       "      <td>-1.612585</td>\n",
       "      <td>0.113317</td>\n",
       "    </tr>\n",
       "    <tr>\n",
       "      <th>2013-01-05</th>\n",
       "      <td>-0.454762</td>\n",
       "      <td>0.368893</td>\n",
       "      <td>-0.314506</td>\n",
       "      <td>1.455401</td>\n",
       "    </tr>\n",
       "    <tr>\n",
       "      <th>2013-01-06</th>\n",
       "      <td>0.295708</td>\n",
       "      <td>0.223515</td>\n",
       "      <td>-0.156662</td>\n",
       "      <td>-0.897845</td>\n",
       "    </tr>\n",
       "  </tbody>\n",
       "</table>\n",
       "</div>"
      ],
      "text/plain": [
       "            rainfall      temp  humidity  windchill\n",
       "2013-01-01  0.307483  0.042601  0.271707  -1.620377\n",
       "2013-01-02  0.423800 -0.665430  0.081791  -0.357333\n",
       "2013-01-03  1.120483  1.670512 -1.091637   0.194661\n",
       "2013-01-04 -2.416327  1.914948 -1.612585   0.113317\n",
       "2013-01-05 -0.454762  0.368893 -0.314506   1.455401\n",
       "2013-01-06  0.295708  0.223515 -0.156662  -0.897845"
      ]
     },
     "execution_count": 69,
     "metadata": {},
     "output_type": "execute_result"
    }
   ],
   "source": [
    "#df = pd.DataFrame(np.arange(4 * 3).reshape((4, 3)), columns=['A','B','C'])\n",
    "df"
   ]
  },
  {
   "cell_type": "code",
   "execution_count": 70,
   "metadata": {
    "collapsed": false
   },
   "outputs": [],
   "source": [
    "#s = df.iloc[2]\n",
    "#s"
   ]
  },
  {
   "cell_type": "code",
   "execution_count": 71,
   "metadata": {
    "collapsed": false
   },
   "outputs": [
    {
     "data": {
      "text/html": [
       "<div>\n",
       "<table border=\"1\" class=\"dataframe\">\n",
       "  <thead>\n",
       "    <tr style=\"text-align: right;\">\n",
       "      <th></th>\n",
       "      <th>rainfall</th>\n",
       "      <th>temp</th>\n",
       "      <th>humidity</th>\n",
       "      <th>windchill</th>\n",
       "    </tr>\n",
       "  </thead>\n",
       "  <tbody>\n",
       "    <tr>\n",
       "      <th>0</th>\n",
       "      <td>0.307483</td>\n",
       "      <td>0.042601</td>\n",
       "      <td>0.271707</td>\n",
       "      <td>-1.620377</td>\n",
       "    </tr>\n",
       "    <tr>\n",
       "      <th>1</th>\n",
       "      <td>0.423800</td>\n",
       "      <td>-0.665430</td>\n",
       "      <td>0.081791</td>\n",
       "      <td>-0.357333</td>\n",
       "    </tr>\n",
       "    <tr>\n",
       "      <th>2</th>\n",
       "      <td>1.120483</td>\n",
       "      <td>1.670512</td>\n",
       "      <td>-1.091637</td>\n",
       "      <td>0.194661</td>\n",
       "    </tr>\n",
       "    <tr>\n",
       "      <th>3</th>\n",
       "      <td>-2.416327</td>\n",
       "      <td>1.914948</td>\n",
       "      <td>-1.612585</td>\n",
       "      <td>0.113317</td>\n",
       "    </tr>\n",
       "    <tr>\n",
       "      <th>4</th>\n",
       "      <td>-0.454762</td>\n",
       "      <td>0.368893</td>\n",
       "      <td>-0.314506</td>\n",
       "      <td>1.455401</td>\n",
       "    </tr>\n",
       "    <tr>\n",
       "      <th>5</th>\n",
       "      <td>0.295708</td>\n",
       "      <td>0.223515</td>\n",
       "      <td>-0.156662</td>\n",
       "      <td>-0.897845</td>\n",
       "    </tr>\n",
       "    <tr>\n",
       "      <th>6</th>\n",
       "      <td>0.307483</td>\n",
       "      <td>0.042601</td>\n",
       "      <td>0.271707</td>\n",
       "      <td>-1.620377</td>\n",
       "    </tr>\n",
       "  </tbody>\n",
       "</table>\n",
       "</div>"
      ],
      "text/plain": [
       "   rainfall      temp  humidity  windchill\n",
       "0  0.307483  0.042601  0.271707  -1.620377\n",
       "1  0.423800 -0.665430  0.081791  -0.357333\n",
       "2  1.120483  1.670512 -1.091637   0.194661\n",
       "3 -2.416327  1.914948 -1.612585   0.113317\n",
       "4 -0.454762  0.368893 -0.314506   1.455401\n",
       "5  0.295708  0.223515 -0.156662  -0.897845\n",
       "6  0.307483  0.042601  0.271707  -1.620377"
      ]
     },
     "execution_count": 71,
     "metadata": {},
     "output_type": "execute_result"
    }
   ],
   "source": [
    "df.append(df.iloc[0], ignore_index=True)"
   ]
  },
  {
   "cell_type": "code",
   "execution_count": 73,
   "metadata": {
    "collapsed": false
   },
   "outputs": [
    {
     "data": {
      "text/html": [
       "<div>\n",
       "<table border=\"1\" class=\"dataframe\">\n",
       "  <thead>\n",
       "    <tr style=\"text-align: right;\">\n",
       "      <th></th>\n",
       "      <th>rainfall</th>\n",
       "      <th>temp</th>\n",
       "      <th>humidity</th>\n",
       "      <th>windchill</th>\n",
       "    </tr>\n",
       "  </thead>\n",
       "  <tbody>\n",
       "    <tr>\n",
       "      <th>2013-01-01 00:00:00</th>\n",
       "      <td>0.307483</td>\n",
       "      <td>0.042601</td>\n",
       "      <td>0.271707</td>\n",
       "      <td>-1.620377</td>\n",
       "    </tr>\n",
       "    <tr>\n",
       "      <th>2013-01-02 00:00:00</th>\n",
       "      <td>0.423800</td>\n",
       "      <td>-0.665430</td>\n",
       "      <td>0.081791</td>\n",
       "      <td>-0.357333</td>\n",
       "    </tr>\n",
       "    <tr>\n",
       "      <th>2013-01-03 00:00:00</th>\n",
       "      <td>1.120483</td>\n",
       "      <td>1.670512</td>\n",
       "      <td>-1.091637</td>\n",
       "      <td>0.194661</td>\n",
       "    </tr>\n",
       "    <tr>\n",
       "      <th>2013-01-04 00:00:00</th>\n",
       "      <td>-2.416327</td>\n",
       "      <td>1.914948</td>\n",
       "      <td>-1.612585</td>\n",
       "      <td>0.113317</td>\n",
       "    </tr>\n",
       "    <tr>\n",
       "      <th>2013-01-05 00:00:00</th>\n",
       "      <td>-0.454762</td>\n",
       "      <td>0.368893</td>\n",
       "      <td>-0.314506</td>\n",
       "      <td>1.455401</td>\n",
       "    </tr>\n",
       "    <tr>\n",
       "      <th>2013-01-06 00:00:00</th>\n",
       "      <td>0.295708</td>\n",
       "      <td>0.223515</td>\n",
       "      <td>-0.156662</td>\n",
       "      <td>-0.897845</td>\n",
       "    </tr>\n",
       "    <tr>\n",
       "      <th>2015-08-19</th>\n",
       "      <td>0.000000</td>\n",
       "      <td>1.000000</td>\n",
       "      <td>2.000000</td>\n",
       "      <td>3.000000</td>\n",
       "    </tr>\n",
       "  </tbody>\n",
       "</table>\n",
       "</div>"
      ],
      "text/plain": [
       "                     rainfall      temp  humidity  windchill\n",
       "2013-01-01 00:00:00  0.307483  0.042601  0.271707  -1.620377\n",
       "2013-01-02 00:00:00  0.423800 -0.665430  0.081791  -0.357333\n",
       "2013-01-03 00:00:00  1.120483  1.670512 -1.091637   0.194661\n",
       "2013-01-04 00:00:00 -2.416327  1.914948 -1.612585   0.113317\n",
       "2013-01-05 00:00:00 -0.454762  0.368893 -0.314506   1.455401\n",
       "2013-01-06 00:00:00  0.295708  0.223515 -0.156662  -0.897845\n",
       "2015-08-19           0.000000  1.000000  2.000000   3.000000"
      ]
     },
     "execution_count": 73,
     "metadata": {},
     "output_type": "execute_result"
    }
   ],
   "source": [
    "row = pd.DataFrame([[0, 1, 2, 3]], columns=df.columns, index=['2015-08-19'])\n",
    "df.append(row)"
   ]
  },
  {
   "cell_type": "markdown",
   "metadata": {},
   "source": [
    "## Grouping"
   ]
  },
  {
   "cell_type": "markdown",
   "metadata": {},
   "source": [
    "By “group by” we are referring to a process involving one or more of the following steps\n",
    "\n",
    "- **Splitting** the data into groups based on some criteria\n",
    "- **Applying** a function to each group independently\n",
    "- **Combining** the results into a data structure\n",
    "\n",
    "See the [Grouping docs](http://pandas.pydata.org/pandas-docs/stable/groupby.html#groupby) for more."
   ]
  },
  {
   "cell_type": "code",
   "execution_count": 74,
   "metadata": {
    "collapsed": false
   },
   "outputs": [
    {
     "data": {
      "text/html": [
       "<div>\n",
       "<table border=\"1\" class=\"dataframe\">\n",
       "  <thead>\n",
       "    <tr style=\"text-align: right;\">\n",
       "      <th></th>\n",
       "      <th>A</th>\n",
       "      <th>B</th>\n",
       "      <th>C</th>\n",
       "      <th>D</th>\n",
       "    </tr>\n",
       "  </thead>\n",
       "  <tbody>\n",
       "    <tr>\n",
       "      <th>0</th>\n",
       "      <td>foo</td>\n",
       "      <td>one</td>\n",
       "      <td>0</td>\n",
       "      <td>10</td>\n",
       "    </tr>\n",
       "    <tr>\n",
       "      <th>1</th>\n",
       "      <td>bar</td>\n",
       "      <td>one</td>\n",
       "      <td>1</td>\n",
       "      <td>11</td>\n",
       "    </tr>\n",
       "    <tr>\n",
       "      <th>2</th>\n",
       "      <td>foo</td>\n",
       "      <td>two</td>\n",
       "      <td>2</td>\n",
       "      <td>12</td>\n",
       "    </tr>\n",
       "    <tr>\n",
       "      <th>3</th>\n",
       "      <td>bar</td>\n",
       "      <td>three</td>\n",
       "      <td>3</td>\n",
       "      <td>13</td>\n",
       "    </tr>\n",
       "    <tr>\n",
       "      <th>4</th>\n",
       "      <td>foo</td>\n",
       "      <td>two</td>\n",
       "      <td>4</td>\n",
       "      <td>14</td>\n",
       "    </tr>\n",
       "    <tr>\n",
       "      <th>5</th>\n",
       "      <td>bar</td>\n",
       "      <td>two</td>\n",
       "      <td>5</td>\n",
       "      <td>15</td>\n",
       "    </tr>\n",
       "    <tr>\n",
       "      <th>6</th>\n",
       "      <td>foo</td>\n",
       "      <td>one</td>\n",
       "      <td>6</td>\n",
       "      <td>16</td>\n",
       "    </tr>\n",
       "    <tr>\n",
       "      <th>7</th>\n",
       "      <td>foo</td>\n",
       "      <td>three</td>\n",
       "      <td>7</td>\n",
       "      <td>17</td>\n",
       "    </tr>\n",
       "  </tbody>\n",
       "</table>\n",
       "</div>"
      ],
      "text/plain": [
       "     A      B  C   D\n",
       "0  foo    one  0  10\n",
       "1  bar    one  1  11\n",
       "2  foo    two  2  12\n",
       "3  bar  three  3  13\n",
       "4  foo    two  4  14\n",
       "5  bar    two  5  15\n",
       "6  foo    one  6  16\n",
       "7  foo  three  7  17"
      ]
     },
     "execution_count": 74,
     "metadata": {},
     "output_type": "execute_result"
    }
   ],
   "source": [
    "df = pd.DataFrame({'A' : ['foo', 'bar', 'foo', 'bar', 'foo', 'bar', 'foo', 'foo'],\n",
    "                   'B' : ['one', 'one', 'two', 'three', 'two', 'two', 'one', 'three'],\n",
    "                   'C' : range(8),\n",
    "                   'D' : range(10, 18)})\n",
    "df"
   ]
  },
  {
   "cell_type": "markdown",
   "metadata": {},
   "source": [
    "Grouping and then applying a function sum to the resulting groups."
   ]
  },
  {
   "cell_type": "code",
   "execution_count": 75,
   "metadata": {
    "collapsed": false
   },
   "outputs": [
    {
     "data": {
      "text/html": [
       "<div>\n",
       "<table border=\"1\" class=\"dataframe\">\n",
       "  <thead>\n",
       "    <tr style=\"text-align: right;\">\n",
       "      <th></th>\n",
       "      <th>C</th>\n",
       "      <th>D</th>\n",
       "    </tr>\n",
       "    <tr>\n",
       "      <th>A</th>\n",
       "      <th></th>\n",
       "      <th></th>\n",
       "    </tr>\n",
       "  </thead>\n",
       "  <tbody>\n",
       "    <tr>\n",
       "      <th>bar</th>\n",
       "      <td>9</td>\n",
       "      <td>39</td>\n",
       "    </tr>\n",
       "    <tr>\n",
       "      <th>foo</th>\n",
       "      <td>19</td>\n",
       "      <td>69</td>\n",
       "    </tr>\n",
       "  </tbody>\n",
       "</table>\n",
       "</div>"
      ],
      "text/plain": [
       "      C   D\n",
       "A          \n",
       "bar   9  39\n",
       "foo  19  69"
      ]
     },
     "execution_count": 75,
     "metadata": {},
     "output_type": "execute_result"
    }
   ],
   "source": [
    "df.groupby('A').sum()"
   ]
  },
  {
   "cell_type": "markdown",
   "metadata": {},
   "source": [
    "Grouping by multiple columns forms a hierarchical index, which we then apply the function."
   ]
  },
  {
   "cell_type": "code",
   "execution_count": 76,
   "metadata": {
    "collapsed": false
   },
   "outputs": [
    {
     "data": {
      "text/html": [
       "<div>\n",
       "<table border=\"1\" class=\"dataframe\">\n",
       "  <thead>\n",
       "    <tr style=\"text-align: right;\">\n",
       "      <th></th>\n",
       "      <th></th>\n",
       "      <th>C</th>\n",
       "      <th>D</th>\n",
       "    </tr>\n",
       "    <tr>\n",
       "      <th>A</th>\n",
       "      <th>B</th>\n",
       "      <th></th>\n",
       "      <th></th>\n",
       "    </tr>\n",
       "  </thead>\n",
       "  <tbody>\n",
       "    <tr>\n",
       "      <th rowspan=\"3\" valign=\"top\">bar</th>\n",
       "      <th>one</th>\n",
       "      <td>1</td>\n",
       "      <td>11</td>\n",
       "    </tr>\n",
       "    <tr>\n",
       "      <th>three</th>\n",
       "      <td>3</td>\n",
       "      <td>13</td>\n",
       "    </tr>\n",
       "    <tr>\n",
       "      <th>two</th>\n",
       "      <td>5</td>\n",
       "      <td>15</td>\n",
       "    </tr>\n",
       "    <tr>\n",
       "      <th rowspan=\"3\" valign=\"top\">foo</th>\n",
       "      <th>one</th>\n",
       "      <td>6</td>\n",
       "      <td>26</td>\n",
       "    </tr>\n",
       "    <tr>\n",
       "      <th>three</th>\n",
       "      <td>7</td>\n",
       "      <td>17</td>\n",
       "    </tr>\n",
       "    <tr>\n",
       "      <th>two</th>\n",
       "      <td>6</td>\n",
       "      <td>26</td>\n",
       "    </tr>\n",
       "  </tbody>\n",
       "</table>\n",
       "</div>"
      ],
      "text/plain": [
       "           C   D\n",
       "A   B           \n",
       "bar one    1  11\n",
       "    three  3  13\n",
       "    two    5  15\n",
       "foo one    6  26\n",
       "    three  7  17\n",
       "    two    6  26"
      ]
     },
     "execution_count": 76,
     "metadata": {},
     "output_type": "execute_result"
    }
   ],
   "source": [
    "df.groupby(['A', 'B']).sum()"
   ]
  },
  {
   "cell_type": "code",
   "execution_count": 77,
   "metadata": {
    "collapsed": true
   },
   "outputs": [],
   "source": [
    "g = df.groupby('A')"
   ]
  },
  {
   "cell_type": "code",
   "execution_count": 78,
   "metadata": {
    "collapsed": false
   },
   "outputs": [],
   "source": [
    "g.*?"
   ]
  },
  {
   "cell_type": "markdown",
   "metadata": {},
   "source": [
    "```\n",
    "g.A            g.B            g.C            g.D            g.agg          g.aggregate    \n",
    "g.all          g.any          g.apply        g.bfill        g.boxplot      g.corr         \n",
    "g.corrwith     g.count        g.cov          g.cumcount     g.cummax       g.cummin       \n",
    "g.cumprod      g.cumsum       g.describe     g.diff         g.dtypes       g.ffill        \n",
    "g.fillna       g.filter       g.first        g.get_group    g.groups       g.head         \n",
    "g.hist         g.idxmax       g.idxmin       g.indices      g.irow         g.last         \n",
    "g.mad          g.max          g.mean         g.median       g.min          g.name         \n",
    "g.ngroups      g.nth          g.ohlc         g.pct_change   g.plot         g.prod         \n",
    "g.quantile     g.rank         g.resample     g.sem          g.shift        g.size         \n",
    "g.skew         g.std          g.sum          g.tail         g.take         g.transform    \n",
    "g.tshift       g.var          \n",
    "```"
   ]
  },
  {
   "cell_type": "markdown",
   "metadata": {},
   "source": [
    "## Histogramming"
   ]
  },
  {
   "cell_type": "code",
   "execution_count": 86,
   "metadata": {
    "collapsed": false
   },
   "outputs": [
    {
     "data": {
      "text/plain": [
       "0    6\n",
       "1    5\n",
       "2    2\n",
       "3    5\n",
       "4    3\n",
       "5    0\n",
       "6    0\n",
       "7    6\n",
       "8    0\n",
       "9    5\n",
       "dtype: int64"
      ]
     },
     "execution_count": 86,
     "metadata": {},
     "output_type": "execute_result"
    }
   ],
   "source": [
    "s = pd.Series(np.random.randint(0, 7, size=10))\n",
    "s"
   ]
  },
  {
   "cell_type": "code",
   "execution_count": 87,
   "metadata": {
    "collapsed": false
   },
   "outputs": [
    {
     "data": {
      "text/plain": [
       "5    3\n",
       "0    3\n",
       "6    2\n",
       "3    1\n",
       "2    1\n",
       "dtype: int64"
      ]
     },
     "execution_count": 87,
     "metadata": {},
     "output_type": "execute_result"
    }
   ],
   "source": [
    "s.value_counts()"
   ]
  },
  {
   "cell_type": "code",
   "execution_count": null,
   "metadata": {
    "collapsed": true
   },
   "outputs": [],
   "source": []
  }
 ],
 "metadata": {
  "kernelspec": {
   "display_name": "Python 3",
   "language": "python",
   "name": "python3"
  },
  "language_info": {
   "codemirror_mode": {
    "name": "ipython",
    "version": 3
   },
   "file_extension": ".py",
   "mimetype": "text/x-python",
   "name": "python",
   "nbconvert_exporter": "python",
   "pygments_lexer": "ipython3",
   "version": "3.4.3"
  }
 },
 "nbformat": 4,
 "nbformat_minor": 0
}
